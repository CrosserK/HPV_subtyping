{
 "cells": [
  {
   "cell_type": "code",
   "execution_count": 7,
   "metadata": {},
   "outputs": [],
   "source": [
    "import os\n",
    "import sys\n",
    "from Bio import SeqIO\n",
    "import glob\n",
    "import subprocess\n",
    "\n",
    "# Insert\n",
    "maintype = \"HPV53\"\n",
    "e4_1s = 892\n",
    "e4_1e = 907\n",
    "e4_2s = 3349\n",
    "e4_2e = 3659\n",
    "mainfolder = \"Organised_Fastas/\"+maintype\n",
    "\n",
    "# find maintype fasta\n",
    "fasta = glob.glob(mainfolder+\"/\"+maintype+\"*.fasta\")\n",
    "# Check that there is only one match:\n",
    "\n",
    "if len(fasta) != 1:\n",
    "    sys.exit(\"STOP, more than one match for mainline fasta\")\n",
    "else:\n",
    "    fasta = fasta[0]\n",
    "item = SeqIO.parse(fasta, \"fasta\")\n",
    "# getting record\n",
    "for i in item:\n",
    "    record = i\n",
    "\n",
    "with open(mainfolder+\"/\"+maintype+\"test.fastq\", \"w\") as text_file:\n",
    "    text_file.write(str(record.seq))\n",
    "\n",
    "e4_1 = record.seq[e4_1s-1:e4_1e]\n",
    "e4_2 = record.seq[e4_2s-1:e4_2e]\n",
    "\n",
    "# print(e4_2s)\n",
    "# print(e4_2e)\n",
    "# print(record.seq[e4_2s-1:e4_2e])\n",
    "# print(e4_2)\n",
    "\n",
    "seqLen1 = len(e4_1)\n",
    "seqLen2 = len(e4_2)\n",
    "\n",
    "# with open(mainfolder+\"/\"+maintype+\"_E4_seq.fastq\", \"w\") as text_file:\n",
    "#     text_file.write(\"@E4_splice1\\n\")\n",
    "#     text_file.write(str(e4_1)+\"\\n\")\n",
    "#     text_file.write(\"+\\n\")\n",
    "#     text_file.write(\"~\"*seqLen1+\"\\n\")\n",
    "    \n",
    "#     text_file.write(\"@E4_splice2\\n\")\n",
    "#     text_file.write(str(e4_2)+\"\\n\")\n",
    "#     text_file.write(\"+\\n\")\n",
    "#     text_file.write(\"~\"*seqLen2+\"\\n\")\n",
    "\n",
    "# Kør bash script for aligning og codon check\n",
    "#val = subprocess.check_call(\"./alignSubtypes.sh -i '%s' -f '%s'\" % (maintype, mainfolder), shell=True)"
   ]
  },
  {
   "cell_type": "code",
   "execution_count": null,
   "metadata": {},
   "outputs": [],
   "source": []
  }
 ],
 "metadata": {
  "kernelspec": {
   "display_name": "Python 3.8.10 64-bit",
   "language": "python",
   "name": "python3"
  },
  "language_info": {
   "codemirror_mode": {
    "name": "ipython",
    "version": 3
   },
   "file_extension": ".py",
   "mimetype": "text/x-python",
   "name": "python",
   "nbconvert_exporter": "python",
   "pygments_lexer": "ipython3",
   "version": "3.8.10"
  },
  "orig_nbformat": 4,
  "vscode": {
   "interpreter": {
    "hash": "31f2aee4e71d21fbe5cf8b01ff0e069b9275f58929596ceb00d14d90e3e16cd6"
   }
  }
 },
 "nbformat": 4,
 "nbformat_minor": 2
}
