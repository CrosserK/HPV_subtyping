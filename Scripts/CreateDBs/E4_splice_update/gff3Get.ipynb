{
 "cells": [
  {
   "cell_type": "code",
   "execution_count": 1,
   "metadata": {},
   "outputs": [],
   "source": [
    "# Steps\n",
    "# 1. download genbank filer\n",
    "# 2. konverter til gff3\n",
    "# 3. lav E4 fix\n",
    "# 4. Rename main refs med \"_main\"\n",
    "# 5. Lav MSA"
   ]
  },
  {
   "cell_type": "code",
   "execution_count": 2,
   "metadata": {},
   "outputs": [],
   "source": [
    "import os\n",
    "import re\n",
    "import json\n",
    "from bs4 import BeautifulSoup\n",
    "import requests \n",
    "from lxml import etree"
   ]
  },
  {
   "cell_type": "code",
   "execution_count": 3,
   "metadata": {},
   "outputs": [],
   "source": [
    "URL = \"https://pave.niaid.nih.gov/explore/variants/variant_genomes\"\n",
    "page = requests.get(URL)\n",
    "soup = BeautifulSoup(page.content, \"html\")"
   ]
  },
  {
   "cell_type": "code",
   "execution_count": 4,
   "metadata": {},
   "outputs": [],
   "source": [
    "# Åbnede soup og fandt denne dict som er tabellen:\n",
    "dict = [{\"Isolate\": \"Ref\", \"Lineage\": \"A\", \"NCBI Accession #\": \"U31793\", \"Other names\": \"\", \"Species\": \"Alpha-3\", \"Sublineage\": \"A1\", \"Type\": \"HPV61\"}, {\"Isolate\": \"Rw62\", \"Lineage\": \"A\", \"NCBI Accession #\": \"KF436853\", \"Other names\": \"\", \"Species\": \"Alpha-3\", \"Sublineage\": \"A2\", \"Type\": \"HPV61\"}, {\"Isolate\": \"Qv2384\", \"Lineage\": \"B\", \"NCBI Accession #\": \"KF436856\", \"Other names\": \"\", \"Species\": \"Alpha-3\", \"Sublineage\": \"B1\", \"Type\": \"HPV61\"}, {\"Isolate\": \"Rw940\", \"Lineage\": \"C\", \"NCBI Accession #\": \"KF436858\", \"Other names\": \"\", \"Species\": \"Alpha-3\", \"Sublineage\": \"C1\", \"Type\": \"HPV61\"}, {\"Isolate\": \"Ref\", \"Lineage\": \"A\", \"NCBI Accession #\": \"X74472\", \"Other names\": \"\", \"Species\": \"Alpha-5\", \"Sublineage\": \"A1\", \"Type\": \"HPV26\"}, {\"Isolate\": \"Ref\", \"Lineage\": \"A\", \"NCBI Accession #\": \"M62877\", \"Other names\": \"\", \"Species\": \"Alpha-5\", \"Sublineage\": \"A1\", \"Type\": \"HPV51\"}, {\"Isolate\": \"Qv00891\", \"Lineage\": \"A\", \"NCBI Accession #\": \"KF436870\", \"Other names\": \"\", \"Species\": \"Alpha-5\", \"Sublineage\": \"A2\", \"Type\": \"HPV51\"}, {\"Isolate\": \"INJP06405\", \"Lineage\": \"A\", \"NCBI Accession #\": \"KF436873\", \"Other names\": \"\", \"Species\": \"Alpha-5\", \"Sublineage\": \"A3\", \"Type\": \"HPV51\"}, {\"Isolate\": \"Qv09427\", \"Lineage\": \"A\", \"NCBI Accession #\": \"KF436875\", \"Other names\": \"\", \"Species\": \"Alpha-5\", \"Sublineage\": \"A4\", \"Type\": \"HPV51\"}, {\"Isolate\": \"Qv10565\", \"Lineage\": \"B\", \"NCBI Accession #\": \"KF436883\", \"Other names\": \"\", \"Species\": \"Alpha-5\", \"Sublineage\": \"B1\", \"Type\": \"HPV51\"}, {\"Isolate\": \"BF366\", \"Lineage\": \"B\", \"NCBI Accession #\": \"KF436886\", \"Other names\": \"\", \"Species\": \"Alpha-5\", \"Sublineage\": \"B2\", \"Type\": \"HPV51\"}, {\"Isolate\": \"Ref\", \"Lineage\": \"A\", \"NCBI Accession #\": \"AB027020\", \"Other names\": \"A\", \"Species\": \"Alpha-5\", \"Sublineage\": \"A1\", \"Type\": \"HPV69\"}, {\"Isolate\": \"Qv29573\", \"Lineage\": \"A\", \"NCBI Accession #\": \"KF436859\", \"Other names\": \"A\", \"Species\": \"Alpha-5\", \"Sublineage\": \"A2\", \"Type\": \"HPV69\"}, {\"Isolate\": \"Qv35103\", \"Lineage\": \"A\", \"NCBI Accession #\": \"KF436861\", \"Other names\": \"A\", \"Species\": \"Alpha-5\", \"Sublineage\": \"A3\", \"Type\": \"HPV69\"}, {\"Isolate\": \"Qv31811\", \"Lineage\": \"A\", \"NCBI Accession #\": \"KF436863\", \"Other names\": \"B\", \"Species\": \"Alpha-5\", \"Sublineage\": \"A4\", \"Type\": \"HPV69\"}, {\"Isolate\": \"Ref\", \"Lineage\": \"A\", \"NCBI Accession #\": \"AB027021\", \"Other names\": \"\", \"Species\": \"Alpha-5\", \"Sublineage\": \"A1\", \"Type\": \"HPV82\"}, {\"Isolate\": \"Qv34571\", \"Lineage\": \"A\", \"NCBI Accession #\": \"KF436787\", \"Other names\": \"\", \"Species\": \"Alpha-5\", \"Sublineage\": \"A2\", \"Type\": \"HPV82\"}, {\"Isolate\": \"Qv28313\", \"Lineage\": \"A\", \"NCBI Accession #\": \"KF436793\", \"Other names\": \"\", \"Species\": \"Alpha-5\", \"Sublineage\": \"A3\", \"Type\": \"HPV82\"}, {\"Isolate\": \"Rw17\", \"Lineage\": \"B\", \"NCBI Accession #\": \"KF436794\", \"Other names\": \"\", \"Species\": \"Alpha-5\", \"Sublineage\": \"B1\", \"Type\": \"HPV82\"}, {\"Isolate\": \"P5_860\", \"Lineage\": \"B\", \"NCBI Accession #\": \"KF444055\", \"Other names\": \"\", \"Species\": \"Alpha-5\", \"Sublineage\": \"B2\", \"Type\": \"HPV82\"}, {\"Isolate\": \"IS39_AE2\", \"Lineage\": \"C\", \"NCBI Accession #\": \"AF293961\", \"Other names\": \"\", \"Species\": \"Alpha-5\", \"Sublineage\": \"C1\", \"Type\": \"HPV82\"}, {\"Isolate\": \"Rw606\", \"Lineage\": \"C\", \"NCBI Accession #\": \"KF436800\", \"Other names\": \"\", \"Species\": \"Alpha-5\", \"Sublineage\": \"C2\", \"Type\": \"HPV82\"}, {\"Isolate\": \"Rw74\", \"Lineage\": \"C\", \"NCBI Accession #\": \"KF436801\", \"Other names\": \"\", \"Species\": \"Alpha-5\", \"Sublineage\": \"C3\", \"Type\": \"HPV82\"}, {\"Isolate\": \"Rw15\", \"Lineage\": \"C\", \"NCBI Accession #\": \"KF436802\", \"Other names\": \"\", \"Species\": \"Alpha-5\", \"Sublineage\": \"C4\", \"Type\": \"HPV82\"}, {\"Isolate\": \"Qv28248\", \"Lineage\": \"C\", \"NCBI Accession #\": \"KF436803\", \"Other names\": \"\", \"Species\": \"Alpha-5\", \"Sublineage\": \"C5\", \"Type\": \"HPV82\"}, {\"Isolate\": \"Ref\", \"Lineage\": \"A\", \"NCBI Accession #\": \"X74474\", \"Other names\": \"\", \"Species\": \"Alpha-6\", \"Sublineage\": \"A1\", \"Type\": \"HPV30\"}, {\"Isolate\": \"Qv00510\", \"Lineage\": \"A\", \"NCBI Accession #\": \"KF436842\", \"Other names\": \"\", \"Species\": \"Alpha-6\", \"Sublineage\": \"A2\", \"Type\": \"HPV30\"}, {\"Isolate\": \"Rw060\", \"Lineage\": \"A\", \"NCBI Accession #\": \"KF436844\", \"Other names\": \"\", \"Species\": \"Alpha-6\", \"Sublineage\": \"A3\", \"Type\": \"HPV30\"}, {\"Isolate\": \"Rw20\", \"Lineage\": \"A\", \"NCBI Accession #\": \"KF436839\", \"Other names\": \"\", \"Species\": \"Alpha-6\", \"Sublineage\": \"A4\", \"Type\": \"HPV30\"}, {\"Isolate\": \"Qv27356\", \"Lineage\": \"A\", \"NCBI Accession #\": \"KF436841\", \"Other names\": \"\", \"Species\": \"Alpha-6\", \"Sublineage\": \"A5\", \"Type\": \"HPV30\"}, {\"Isolate\": \"Qv31356\", \"Lineage\": \"B\", \"NCBI Accession #\": \"KF436850\", \"Other names\": \"\", \"Species\": \"Alpha-6\", \"Sublineage\": \"B1\", \"Type\": \"HPV30\"}, {\"Isolate\": \"Ref\", \"Lineage\": \"A\", \"NCBI Accession #\": \"X74482\", \"Other names\": \"A\", \"Species\": \"Alpha-6\", \"Sublineage\": \"A1\", \"Type\": \"HPV53\"}, {\"Isolate\": \"Rw866\", \"Lineage\": \"B\", \"NCBI Accession #\": \"KF436818\", \"Other names\": \"\", \"Species\": \"Alpha-6\", \"Sublineage\": \"B1\", \"Type\": \"HPV53\"}, {\"Isolate\": \"Qv28044\", \"Lineage\": \"C\", \"NCBI Accession #\": \"EF546477\", \"Other names\": \"B\", \"Species\": \"Alpha-6\", \"Sublineage\": \"C1\", \"Type\": \"HPV53\"}, {\"Isolate\": \"Qv31688\", \"Lineage\": \"D\", \"NCBI Accession #\": \"EF546482\", \"Other names\": \"B\", \"Species\": \"Alpha-6\", \"Sublineage\": \"D1\", \"Type\": \"HPV53\"}, {\"Isolate\": \"Qv28877\", \"Lineage\": \"D\", \"NCBI Accession #\": \"KF436823\", \"Other names\": \"B\", \"Species\": \"Alpha-6\", \"Sublineage\": \"D2\", \"Type\": \"HPV53\"}, {\"Isolate\": \"TJ43_53\", \"Lineage\": \"D\", \"NCBI Accession #\": \"GQ472849\", \"Other names\": \"\", \"Species\": \"Alpha-6\", \"Sublineage\": \"D3\", \"Type\": \"HPV53\"}, {\"Isolate\": \"Qv22707\", \"Lineage\": \"D\", \"NCBI Accession #\": \"EF546479\", \"Other names\": \"B\", \"Species\": \"Alpha-6\", \"Sublineage\": \"D4\", \"Type\": \"HPV53\"}, {\"Isolate\": \"Ref\", \"Lineage\": \"A\", \"NCBI Accession #\": \"X74483\", \"Other names\": \"A\", \"Species\": \"Alpha-6\", \"Sublineage\": \"A1\", \"Type\": \"HPV56\"}, {\"Isolate\": \"Qv22608\", \"Lineage\": \"A\", \"NCBI Accession #\": \"EF177179\", \"Other names\": \"B\", \"Species\": \"Alpha-6\", \"Sublineage\": \"A2\", \"Type\": \"HPV56\"}, {\"Isolate\": \"Qv26762\", \"Lineage\": \"B\", \"NCBI Accession #\": \"EF177176\", \"Other names\": \"C\", \"Species\": \"Alpha-6\", \"Sublineage\": \"B1\", \"Type\": \"HPV56\"}, {\"Isolate\": \"Ref\", \"Lineage\": \"A\", \"NCBI Accession #\": \"U31794\", \"Other names\": \"\", \"Species\": \"Alpha-6\", \"Sublineage\": \"A1\", \"Type\": \"HPV66\"}, {\"Isolate\": \"Qv25111\", \"Lineage\": \"B\", \"NCBI Accession #\": \"EF177188\", \"Other names\": \"\", \"Species\": \"Alpha-6\", \"Sublineage\": \"B1\", \"Type\": \"HPV66\"}, {\"Isolate\": \"Qv25260\", \"Lineage\": \"B\", \"NCBI Accession #\": \"EF177187\", \"Other names\": \"\", \"Species\": \"Alpha-6\", \"Sublineage\": \"B2\", \"Type\": \"HPV66\"}, {\"Isolate\": \"Ref\", \"Lineage\": \"A\", \"NCBI Accession #\": \"AY262282\", \"Other names\": \"AsAi, AA, E1\", \"Species\": \"Alpha-7\", \"Sublineage\": \"A1\", \"Type\": \"HPV18\"}, {\"Isolate\": \"Qv16306\", \"Lineage\": \"A\", \"NCBI Accession #\": \"EF202146\", \"Other names\": \"AsAi, AA, E1\", \"Species\": \"Alpha-7\", \"Sublineage\": \"A2\", \"Type\": \"HPV18\"}, {\"Isolate\": \"Qv15586\", \"Lineage\": \"A\", \"NCBI Accession #\": \"EF202147\", \"Other names\": \"E, E2\", \"Species\": \"Alpha-7\", \"Sublineage\": \"A3\", \"Type\": \"HPV18\"}, {\"Isolate\": \"Qv02876\", \"Lineage\": \"A\", \"NCBI Accession #\": \"EF202151\", \"Other names\": \"E, E2\", \"Species\": \"Alpha-7\", \"Sublineage\": \"A4\", \"Type\": \"HPV18\"}, {\"Isolate\": \"CU11\", \"Lineage\": \"A\", \"NCBI Accession #\": \"GQ180787\", \"Other names\": \"E\", \"Species\": \"Alpha-7\", \"Sublineage\": \"A5\", \"Type\": \"HPV18\"}, {\"Isolate\": \"Qv04924\", \"Lineage\": \"B\", \"NCBI Accession #\": \"EF202155\", \"Other names\": \"Af, Af1\", \"Species\": \"Alpha-7\", \"Sublineage\": \"B1\", \"Type\": \"HPV18\"}, {\"Isolate\": \"BF172\", \"Lineage\": \"B\", \"NCBI Accession #\": \"KC470225\", \"Other names\": \"Af\", \"Species\": \"Alpha-7\", \"Sublineage\": \"B2\", \"Type\": \"HPV18\"}, {\"Isolate\": \"Qv17199\", \"Lineage\": \"B\", \"NCBI Accession #\": \"EF202152\", \"Other names\": \"Af, Af2\", \"Species\": \"Alpha-7\", \"Sublineage\": \"B3\", \"Type\": \"HPV18\"}, {\"Isolate\": \"Qv39775\", \"Lineage\": \"C\", \"NCBI Accession #\": \"KC470229\", \"Other names\": \"Af\", \"Species\": \"Alpha-7\", \"Sublineage\": \"C1\", \"Type\": \"HPV18\"}, {\"Isolate\": \"Ref\", \"Lineage\": \"A\", \"NCBI Accession #\": \"M62849\", \"Other names\": \"\", \"Species\": \"Alpha-7\", \"Sublineage\": \"A1\", \"Type\": \"HPV39\"}, {\"Isolate\": \"Qv21219\", \"Lineage\": \"A\", \"NCBI Accession #\": \"KC470239\", \"Other names\": \"\", \"Species\": \"Alpha-7\", \"Sublineage\": \"A2\", \"Type\": \"HPV39\"}, {\"Isolate\": \"RW72\", \"Lineage\": \"B\", \"NCBI Accession #\": \"KC470247\", \"Other names\": \"\", \"Species\": \"Alpha-7\", \"Sublineage\": \"B1\", \"Type\": \"HPV39\"}, {\"Isolate\": \"Ref\", \"Lineage\": \"A\", \"NCBI Accession #\": \"X74479\", \"Other names\": \"\", \"Species\": \"Alpha-7\", \"Sublineage\": \"A1\", \"Type\": \"HPV45\"}, {\"Isolate\": \"Qv27565\", \"Lineage\": \"A\", \"NCBI Accession #\": \"EF202157\", \"Other names\": \"\", \"Species\": \"Alpha-7\", \"Sublineage\": \"A2\", \"Type\": \"HPV45\"}, {\"Isolate\": \"BF134\", \"Lineage\": \"A\", \"NCBI Accession #\": \"KC470256\", \"Other names\": \"\", \"Species\": \"Alpha-7\", \"Sublineage\": \"A3\", \"Type\": \"HPV45\"}, {\"Isolate\": \"Qv00550\", \"Lineage\": \"B\", \"NCBI Accession #\": \"EF202161\", \"Other names\": \"\", \"Species\": \"Alpha-7\", \"Sublineage\": \"B1\", \"Type\": \"HPV45\"}, {\"Isolate\": \"Qv25000\", \"Lineage\": \"B\", \"NCBI Accession #\": \"EF202164\", \"Other names\": \"\", \"Species\": \"Alpha-7\", \"Sublineage\": \"B2\", \"Type\": \"HPV45\"}, {\"Isolate\": \"QE00701\", \"Lineage\": \"B\", \"NCBI Accession #\": \"pending\", \"Other names\": \"\", \"Species\": \"Alpha-7\", \"Sublineage\": \"B3\", \"Type\": \"HPV45\"}, {\"Isolate\": \"PAP143581\", \"Lineage\": \"C\", \"NCBI Accession #\": \"pending\", \"Other names\": \"\", \"Species\": \"Alpha-7\", \"Sublineage\": \"C1\", \"Type\": \"HPV45\"}, {\"Isolate\": \"PAP145133\", \"Lineage\": \"C\", \"NCBI Accession #\": \"pending\", \"Other names\": \"\", \"Species\": \"Alpha-7\", \"Sublineage\": \"C2\", \"Type\": \"HPV45\"}, {\"Isolate\": \"Ref\", \"Lineage\": \"A\", \"NCBI Accession #\": \"X77858\", \"Other names\": \"\", \"Species\": \"Alpha-7\", \"Sublineage\": \"A1\", \"Type\": \"HPV59\"}, {\"Isolate\": \"Qv25652\", \"Lineage\": \"A\", \"NCBI Accession #\": \"KC470261\", \"Other names\": \"\", \"Species\": \"Alpha-7\", \"Sublineage\": \"A2\", \"Type\": \"HPV59\"}, {\"Isolate\": \"Qv23880\", \"Lineage\": \"A\", \"NCBI Accession #\": \"KC470263\", \"Other names\": \"\", \"Species\": \"Alpha-7\", \"Sublineage\": \"A3\", \"Type\": \"HPV59\"}, {\"Isolate\": \"Qv25808\", \"Lineage\": \"B\", \"NCBI Accession #\": \"KC470264\", \"Other names\": \"\", \"Species\": \"Alpha-7\", \"Sublineage\": \"B1\", \"Type\": \"HPV59\"}, {\"Isolate\": \"Ref\", \"Lineage\": \"A\", \"NCBI Accession #\": \"X67161\", \"Other names\": \"A\", \"Species\": \"Alpha-7\", \"Sublineage\": \"A1\", \"Type\": \"HPV68\"}, {\"Isolate\": \"Qv01017\", \"Lineage\": \"A\", \"NCBI Accession #\": \"KC470269\", \"Other names\": \"A\", \"Species\": \"Alpha-7\", \"Sublineage\": \"A2\", \"Type\": \"HPV68\"}, {\"Isolate\": \"Qv18016\", \"Lineage\": \"B\", \"NCBI Accession #\": \"KC470270\", \"Other names\": \"A\", \"Species\": \"Alpha-7\", \"Sublineage\": \"B1\", \"Type\": \"HPV68\"}, {\"Isolate\": \"ME180\", \"Lineage\": \"C\", \"NCBI Accession #\": \"FR751039\", \"Other names\": \"B\", \"Species\": \"Alpha-7\", \"Sublineage\": \"C1\", \"Type\": \"HPV68\"}, {\"Isolate\": \"Qv33015\", \"Lineage\": \"C\", \"NCBI Accession #\": \"KC470274\", \"Other names\": \"B\", \"Species\": \"Alpha-7\", \"Sublineage\": \"C2\", \"Type\": \"HPV68\"}, {\"Isolate\": \"Qv00677\", \"Lineage\": \"D\", \"NCBI Accession #\": \"KC470275\", \"Other names\": \"B\", \"Species\": \"Alpha-7\", \"Sublineage\": \"D1\", \"Type\": \"HPV68\"}, {\"Isolate\": \"Qv30285\", \"Lineage\": \"D\", \"NCBI Accession #\": \"KC470276\", \"Other names\": \"B\", \"Species\": \"Alpha-7\", \"Sublineage\": \"D2\", \"Type\": \"HPV68\"}, {\"Isolate\": \"Qv17725\", \"Lineage\": \"E\", \"NCBI Accession #\": \"KC470277\", \"Other names\": \"B\", \"Species\": \"Alpha-7\", \"Sublineage\": \"E1\", \"Type\": \"HPV68\"}, {\"Isolate\": \"Qv25395\", \"Lineage\": \"F\", \"NCBI Accession #\": \"KC470279\", \"Other names\": \"B\", \"Species\": \"Alpha-7\", \"Sublineage\": \"F1\", \"Type\": \"HPV68\"}, {\"Isolate\": \"Rw826\", \"Lineage\": \"F\", \"NCBI Accession #\": \"KC470281\", \"Other names\": \"\", \"Species\": \"Alpha-7\", \"Sublineage\": \"F2\", \"Type\": \"HPV68\"}, {\"Isolate\": \"Ref\", \"Lineage\": \"A\", \"NCBI Accession #\": \"U21941\", \"Other names\": \"\", \"Species\": \"Alpha-7\", \"Sublineage\": \"A1\", \"Type\": \"HPV70\"}, {\"Isolate\": \"Qv05102\", \"Lineage\": \"B\", \"NCBI Accession #\": \"KC470287\", \"Other names\": \"\", \"Species\": \"Alpha-7\", \"Sublineage\": \"B1\", \"Type\": \"HPV70\"}, {\"Isolate\": \"Ref\", \"Lineage\": \"A\", \"NCBI Accession #\": \"AF131950\", \"Other names\": \"\", \"Species\": \"Alpha-7\", \"Sublineage\": \"A1\", \"Type\": \"HPV85\"}, {\"Isolate\": \"W15189\", \"Lineage\": \"A\", \"NCBI Accession #\": \"EF202168\", \"Other names\": \"\", \"Species\": \"Alpha-7\", \"Sublineage\": \"A1\", \"Type\": \"HPV97\"}, {\"Isolate\": \"HPV16Ref\", \"Lineage\": \"A\", \"NCBI Accession #\": \"NC_001526\", \"Other names\": \"European (E)\", \"Species\": \"Alpha-9\", \"Sublineage\": \"A1\", \"Type\": \"HPV16\"}, {\"Isolate\": \"w0122\", \"Lineage\": \"A\", \"NCBI Accession #\": \"AF536179\", \"Other names\": \"European (E)\", \"Species\": \"Alpha-9\", \"Sublineage\": \"A2\", \"Type\": \"HPV16\"}, {\"Isolate\": \"AS411\", \"Lineage\": \"A\", \"NCBI Accession #\": \"HQ644236\", \"Other names\": \"E\", \"Species\": \"Alpha-9\", \"Sublineage\": \"A3\", \"Type\": \"HPV16\"}, {\"Isolate\": \"w0724\", \"Lineage\": \"A\", \"NCBI Accession #\": \"AF534061\", \"Other names\": \"Asian, E(As)\", \"Species\": \"Alpha-9\", \"Sublineage\": \"A4\", \"Type\": \"HPV16\"}, {\"Isolate\": \"w0236\", \"Lineage\": \"B\", \"NCBI Accession #\": \"AF536180\", \"Other names\": \"African-1, Afr1a\", \"Species\": \"Alpha-9\", \"Sublineage\": \"B1\", \"Type\": \"HPV16\"}, {\"Isolate\": \"Z109\", \"Lineage\": \"B\", \"NCBI Accession #\": \"HQ644298\", \"Other names\": \"African-1, Afr1b\", \"Species\": \"Alpha-9\", \"Sublineage\": \"B2\", \"Type\": \"HPV16\"}, {\"Isolate\": \"IARC202412\", \"Lineage\": \"B\", \"NCBI Accession #\": \"KU053910\", \"Other names\": \"\", \"Species\": \"Alpha-9\", \"Sublineage\": \"B3\", \"Type\": \"HPV16\"}, {\"Isolate\": \"IARC907912\", \"Lineage\": \"B\", \"NCBI Accession #\": \"KU053914\", \"Other names\": \"\", \"Species\": \"Alpha-9\", \"Sublineage\": \"B4\", \"Type\": \"HPV16\"}, {\"Isolate\": \"R460\", \"Lineage\": \"C\", \"NCBI Accession #\": \"AF472509\", \"Other names\": \"African-2, Afr2a\", \"Species\": \"Alpha-9\", \"Sublineage\": \"C1\", \"Type\": \"HPV16\"}, {\"Isolate\": \"IARC240211\", \"Lineage\": \"C\", \"NCBI Accession #\": \"HQ644244\", \"Other names\": \"\", \"Species\": \"Alpha-9\", \"Sublineage\": \"C2\", \"Type\": \"HPV16\"}, {\"Isolate\": \"IARC207412\", \"Lineage\": \"C\", \"NCBI Accession #\": \"KU053921\", \"Other names\": \"\", \"Species\": \"Alpha-9\", \"Sublineage\": \"C3\", \"Type\": \"HPV16\"}, {\"Isolate\": \"IARC313712\", \"Lineage\": \"C\", \"NCBI Accession #\": \"KU053922\", \"Other names\": \"\", \"Species\": \"Alpha-9\", \"Sublineage\": \"C4\", \"Type\": \"HPV16\"}, {\"Isolate\": \"Qv00512\", \"Lineage\": \"D\", \"NCBI Accession #\": \"HQ644257\", \"Other names\": \"North American (NA)1\", \"Species\": \"Alpha-9\", \"Sublineage\": \"D1\", \"Type\": \"HPV16\"}, {\"Isolate\": \"Qv15321\", \"Lineage\": \"D\", \"NCBI Accession #\": \"AY686579\", \"Other names\": \"Asian-American (AA)2\", \"Species\": \"Alpha-9\", \"Sublineage\": \"D2\", \"Type\": \"HPV16\"}, {\"Isolate\": \"Qv00995\", \"Lineage\": \"D\", \"NCBI Accession #\": \"AF402678\", \"Other names\": \"Asian-American (AA)1\", \"Species\": \"Alpha-9\", \"Sublineage\": \"D3\", \"Type\": \"HPV16\"}, {\"Isolate\": \"IARC900912\", \"Lineage\": \"D\", \"NCBI Accession #\": \"KU053933\", \"Other names\": \"\", \"Species\": \"Alpha-9\", \"Sublineage\": \"D4\", \"Type\": \"HPV16\"}, {\"Isolate\": \"Ref\", \"Lineage\": \"A\", \"NCBI Accession #\": \"J04353\", \"Other names\": \"\", \"Species\": \"Alpha-9\", \"Sublineage\": \"A1\", \"Type\": \"HPV31\"}, {\"Isolate\": \"IN221709\", \"Lineage\": \"A\", \"NCBI Accession #\": \"HQ537675\", \"Other names\": \"\", \"Species\": \"Alpha-9\", \"Sublineage\": \"A2\", \"Type\": \"HPV31\"}, {\"Isolate\": \"QV03876\", \"Lineage\": \"B\", \"NCBI Accession #\": \"HQ537676\", \"Other names\": \"\", \"Species\": \"Alpha-9\", \"Sublineage\": \"B1\", \"Type\": \"HPV31\"}, {\"Isolate\": \"QV17700\", \"Lineage\": \"B\", \"NCBI Accession #\": \"HQ537680\", \"Other names\": \"\", \"Species\": \"Alpha-9\", \"Sublineage\": \"B2\", \"Type\": \"HPV31\"}, {\"Isolate\": \"QV03136\", \"Lineage\": \"C\", \"NCBI Accession #\": \"HQ537682\", \"Other names\": \"\", \"Species\": \"Alpha-9\", \"Sublineage\": \"C1\", \"Type\": \"HPV31\"}, {\"Isolate\": \"QV14043\", \"Lineage\": \"C\", \"NCBI Accession #\": \"HQ537684\", \"Other names\": \"\", \"Species\": \"Alpha-9\", \"Sublineage\": \"C2\", \"Type\": \"HPV31\"}, {\"Isolate\": \"QV00693\", \"Lineage\": \"C\", \"NCBI Accession #\": \"HQ537685\", \"Other names\": \"\", \"Species\": \"Alpha-9\", \"Sublineage\": \"C3\", \"Type\": \"HPV31\"}, {\"Isolate\": \"PAP3340\", \"Lineage\": \"C\", \"NCBI Accession #\": \"pending\", \"Other names\": \"\", \"Species\": \"Alpha-9\", \"Sublineage\": \"C4\", \"Type\": \"HPV31\"}, {\"Isolate\": \"Ref\", \"Lineage\": \"A\", \"NCBI Accession #\": \"M12732\", \"Other names\": \"A\", \"Species\": \"Alpha-9\", \"Sublineage\": \"A1\", \"Type\": \"HPV33\"}, {\"Isolate\": \"QV34060\", \"Lineage\": \"A\", \"NCBI Accession #\": \"HQ537698\", \"Other names\": \"B\", \"Species\": \"Alpha-9\", \"Sublineage\": \"A2\", \"Type\": \"HPV33\"}, {\"Isolate\": \"LZcc12\", \"Lineage\": \"A\", \"NCBI Accession #\": \"EU918766\", \"Other names\": \"\", \"Species\": \"Alpha-9\", \"Sublineage\": \"A3\", \"Type\": \"HPV33\"}, {\"Isolate\": \"QV23819\", \"Lineage\": \"B\", \"NCBI Accession #\": \"HQ537705\", \"Other names\": \"C\", \"Species\": \"Alpha-9\", \"Sublineage\": \"B1\", \"Type\": \"HPV33\"}, {\"Isolate\": \"BF375\", \"Lineage\": \"C\", \"NCBI Accession #\": \"KF436865\", \"Other names\": \"\", \"Species\": \"Alpha-9\", \"Sublineage\": \"C1\", \"Type\": \"HPV33\"}, {\"Isolate\": \"Ref\", \"Lineage\": \"A\", \"NCBI Accession #\": \"X74477\", \"Other names\": \"\", \"Species\": \"Alpha-9\", \"Sublineage\": \"A1\", \"Type\": \"HPV35\"}, {\"Isolate\": \"RW128\", \"Lineage\": \"A\", \"NCBI Accession #\": \"HQ537727\", \"Other names\": \"\", \"Species\": \"Alpha-9\", \"Sublineage\": \"A2\", \"Type\": \"HPV35\"}, {\"Isolate\": \"Ref\", \"Lineage\": \"A\", \"NCBI Accession #\": \"X74481\", \"Other names\": \"\", \"Species\": \"Alpha-9\", \"Sublineage\": \"A1\", \"Type\": \"HPV52\"}, {\"Isolate\": \"QV15145\", \"Lineage\": \"A\", \"NCBI Accession #\": \"HQ537739\", \"Other names\": \"\", \"Species\": \"Alpha-9\", \"Sublineage\": \"A2\", \"Type\": \"HPV52\"}, {\"Isolate\": \"QV03594\", \"Lineage\": \"B\", \"NCBI Accession #\": \"HQ537740\", \"Other names\": \"\", \"Species\": \"Alpha-9\", \"Sublineage\": \"B1\", \"Type\": \"HPV52\"}, {\"Isolate\": \"IN141070\", \"Lineage\": \"B\", \"NCBI Accession #\": \"HQ537743\", \"Other names\": \"\", \"Species\": \"Alpha-9\", \"Sublineage\": \"B2\", \"Type\": \"HPV52\"}, {\"Isolate\": \"PAP0251\", \"Lineage\": \"B\", \"NCBI Accession #\": \"MZ374428\", \"Other names\": \"\", \"Species\": \"Alpha-9\", \"Sublineage\": \"B3\", \"Type\": \"HPV52\"}, {\"Isolate\": \"QV05867\", \"Lineage\": \"C\", \"NCBI Accession #\": \"HQ537744\", \"Other names\": \"\", \"Species\": \"Alpha-9\", \"Sublineage\": \"C1\", \"Type\": \"HPV52\"}, {\"Isolate\": \"QV00615\", \"Lineage\": \"C\", \"NCBI Accession #\": \"HQ537746\", \"Other names\": \"\", \"Species\": \"Alpha-9\", \"Sublineage\": \"C2\", \"Type\": \"HPV52\"}, {\"Isolate\": \"QV02575\", \"Lineage\": \"D\", \"NCBI Accession #\": \"HQ537748\", \"Other names\": \"\", \"Species\": \"Alpha-9\", \"Sublineage\": \"D1\", \"Type\": \"HPV52\"}, {\"Isolate\": \"PAP3497\", \"Lineage\": \"E\", \"NCBI Accession #\": \"MZ374448\", \"Other names\": \"\", \"Species\": \"Alpha-9\", \"Sublineage\": \"E1\", \"Type\": \"HPV52\"}, {\"Isolate\": \"Ref\", \"Lineage\": \"A\", \"NCBI Accession #\": \"D90400\", \"Other names\": \"\", \"Species\": \"Alpha-9\", \"Sublineage\": \"A1\", \"Type\": \"HPV58\"}, {\"Isolate\": \"QV15606\", \"Lineage\": \"A\", \"NCBI Accession #\": \"HQ537752\", \"Other names\": \"\", \"Species\": \"Alpha-9\", \"Sublineage\": \"A2\", \"Type\": \"HPV58\"}, {\"Isolate\": \"QV00961\", \"Lineage\": \"A\", \"NCBI Accession #\": \"HQ537758\", \"Other names\": \"\", \"Species\": \"Alpha-9\", \"Sublineage\": \"A3\", \"Type\": \"HPV58\"}, {\"Isolate\": \"BF134\", \"Lineage\": \"B\", \"NCBI Accession #\": \"HQ537762\", \"Other names\": \"\", \"Species\": \"Alpha-9\", \"Sublineage\": \"B1\", \"Type\": \"HPV58\"}, {\"Isolate\": \"RW937\", \"Lineage\": \"B\", \"NCBI Accession #\": \"HQ537764\", \"Other names\": \"\", \"Species\": \"Alpha-9\", \"Sublineage\": \"B2\", \"Type\": \"HPV58\"}, {\"Isolate\": \"QV13816\", \"Lineage\": \"C\", \"NCBI Accession #\": \"HQ537774\", \"Other names\": \"\", \"Species\": \"Alpha-9\", \"Sublineage\": \"C1\", \"Type\": \"HPV58\"}, {\"Isolate\": \"QV03841\", \"Lineage\": \"D\", \"NCBI Accession #\": \"HQ537768\", \"Other names\": \"\", \"Species\": \"Alpha-9\", \"Sublineage\": \"D1\", \"Type\": \"HPV58\"}, {\"Isolate\": \"RW697\", \"Lineage\": \"D\", \"NCBI Accession #\": \"HQ537770\", \"Other names\": \"\", \"Species\": \"Alpha-9\", \"Sublineage\": \"D2\", \"Type\": \"HPV58\"}, {\"Isolate\": \"Ref\", \"Lineage\": \"A\", \"NCBI Accession #\": \"D21208\", \"Other names\": \"\", \"Species\": \"Alpha-9\", \"Sublineage\": \"A1\", \"Type\": \"HPV67\"}, {\"Isolate\": \"QV22701\", \"Lineage\": \"A\", \"NCBI Accession #\": \"HQ537780\", \"Other names\": \"\", \"Species\": \"Alpha-9\", \"Sublineage\": \"A2\", \"Type\": \"HPV67\"}, {\"Isolate\": \"QV25738\", \"Lineage\": \"B\", \"NCBI Accession #\": \"HQ537783\", \"Other names\": \"\", \"Species\": \"Alpha-9\", \"Sublineage\": \"B1\", \"Type\": \"HPV67\"}, {\"Isolate\": \"REF6b1\", \"Lineage\": \"A\", \"NCBI Accession #\": \"X00203\", \"Other names\": \"\", \"Species\": \"Alpha-10\", \"Sublineage\": \"A\", \"Type\": \"HPV6\"}, {\"Isolate\": \"HPV6vc\", \"Lineage\": \"B\", \"NCBI Accession #\": \"AF092932\", \"Other names\": \"\", \"Species\": \"Alpha-10\", \"Sublineage\": \"B1\", \"Type\": \"HPV6\"}, {\"Isolate\": \"CAC301\", \"Lineage\": \"B\", \"NCBI Accession #\": \"FR751328\", \"Other names\": \"\", \"Species\": \"Alpha-10\", \"Sublineage\": \"B2\", \"Type\": \"HPV6\"}, {\"Isolate\": \"HPV6a\", \"Lineage\": \"B\", \"NCBI Accession #\": \"L41216\", \"Other names\": \"\", \"Species\": \"Alpha-10\", \"Sublineage\": \"B3\", \"Type\": \"HPV6\"}, {\"Isolate\": \"isolate16\", \"Lineage\": \"B\", \"NCBI Accession #\": \"HG793824\", \"Other names\": \"\", \"Species\": \"Alpha-10\", \"Sublineage\": \"B4\", \"Type\": \"HPV6\"}, {\"Isolate\": \"isolate92\", \"Lineage\": \"B\", \"NCBI Accession #\": \"HG793900\", \"Other names\": \"\", \"Species\": \"Alpha-10\", \"Sublineage\": \"B5\", \"Type\": \"HPV6\"}, {\"Isolate\": \"REF\", \"Lineage\": \"A\", \"NCBI Accession #\": \"M14119\", \"Other names\": \"\", \"Species\": \"Alpha-10\", \"Sublineage\": \"A1\", \"Type\": \"HPV11\"}, {\"Isolate\": \"CAC86\", \"Lineage\": \"A\", \"NCBI Accession #\": \"FN907962\", \"Other names\": \"\", \"Species\": \"Alpha-10\", \"Sublineage\": \"A2\", \"Type\": \"HPV11\"}, {\"Isolate\": \"C185\", \"Lineage\": \"A\", \"NCBI Accession #\": \"pending\", \"Other names\": \"\", \"Species\": \"Alpha-10\", \"Sublineage\": \"A3\", \"Type\": \"HPV11\"}, {\"Isolate\": \"LT4\", \"Lineage\": \"A\", \"NCBI Accession #\": \"pending\", \"Other names\": \"\", \"Species\": \"Alpha-10\", \"Sublineage\": \"A4\", \"Type\": \"HPV11\"}, {\"Isolate\": \"SA3408\", \"Lineage\": \"B\", \"NCBI Accession #\": \"pending\", \"Other names\": \"\", \"Species\": \"Alpha-10\", \"Sublineage\": \"B\", \"Type\": \"HPV11\"}, {\"Isolate\": \"Ref\", \"Lineage\": \"A\", \"NCBI Accession #\": \"X74476\", \"Other names\": \"\", \"Species\": \"Alpha-11\", \"Sublineage\": \"A1\", \"Type\": \"HPV34\"}, {\"Isolate\": \"Qv24615\", \"Lineage\": \"A\", \"NCBI Accession #\": \"KF436808\", \"Other names\": \"\", \"Species\": \"Alpha-11\", \"Sublineage\": \"A2\", \"Type\": \"HPV34\"}, {\"Isolate\": \"Qv12026\", \"Lineage\": \"B\", \"NCBI Accession #\": \"KF436810\", \"Other names\": \"\", \"Species\": \"Alpha-11\", \"Sublineage\": \"B1\", \"Type\": \"HPV34\"}, {\"Isolate\": \"Qv34920\", \"Lineage\": \"C\", \"NCBI Accession #\": \"KF436812\", \"Other names\": \"\", \"Species\": \"Alpha-11\", \"Sublineage\": \"C1\", \"Type\": \"HPV34\"}, {\"Isolate\": \"Qv29446\", \"Lineage\": \"C\", \"NCBI Accession #\": \"KF436816\", \"Other names\": \"\", \"Species\": \"Alpha-11\", \"Sublineage\": \"C2\", \"Type\": \"HPV34\"}, {\"Isolate\": \"Ref\", \"Lineage\": \"A\", \"NCBI Accession #\": \"X94165\", \"Other names\": \"\", \"Species\": \"Alpha-11\", \"Sublineage\": \"A1\", \"Type\": \"HPV73\"}, {\"Isolate\": \"QV23185\", \"Lineage\": \"A\", \"NCBI Accession #\": \"KF436829\", \"Other names\": \"\", \"Species\": \"Alpha-11\", \"Sublineage\": \"A2\", \"Type\": \"HPV73\"}, {\"Isolate\": \"QV00749\", \"Lineage\": \"B\", \"NCBI Accession #\": \"KF436834\", \"Other names\": \"\", \"Species\": \"Alpha-11\", \"Sublineage\": \"B1\", \"Type\": \"HPV73\"}, {\"Isolate\": \"Ref\", \"Lineage\": \"A\", \"NCBI Accession #\": \"U37488\", \"Other names\": \"\", \"Species\": \"Alpha-13\", \"Sublineage\": \"A1\", \"Type\": \"HPV54\"}, {\"Isolate\": \"Qv25329\", \"Lineage\": \"A\", \"NCBI Accession #\": \"KF436892\", \"Other names\": \"\", \"Species\": \"Alpha-13\", \"Sublineage\": \"A2\", \"Type\": \"HPV54\"}, {\"Isolate\": \"AE9\", \"Lineage\": \"B\", \"NCBI Accession #\": \"AF436129\", \"Other names\": \"\", \"Species\": \"Alpha-13\", \"Sublineage\": \"B1\", \"Type\": \"HPV54\"}, {\"Isolate\": \"Qv18028\", \"Lineage\": \"C\", \"NCBI Accession #\": \"KF436894\", \"Other names\": \"\", \"Species\": \"Alpha-13\", \"Sublineage\": \"C1\", \"Type\": \"HPV54\"}, {\"Isolate\": \"Qv18610\", \"Lineage\": \"C\", \"NCBI Accession #\": \"KF436895\", \"Other names\": \"\", \"Species\": \"Alpha-13\", \"Sublineage\": \"C2\", \"Type\": \"HPV54\"}]"
   ]
  },
  {
   "cell_type": "code",
   "execution_count": 11,
   "metadata": {},
   "outputs": [],
   "source": [
    "newlist = []\n",
    "for item in dict:\n",
    "    hpvType = item['Type']\n",
    "    subline = item['Sublineage']\n",
    "    accID = item['NCBI Accession #']\n",
    "    URL = 'https://ncbi.nlm.nih.gov/nuccore/' + accID + '.1?report=fasta'\n",
    "    newlist.append([hpvType,subline,accID, URL])"
   ]
  },
  {
   "cell_type": "code",
   "execution_count": 14,
   "metadata": {},
   "outputs": [
    {
     "name": "stdout",
     "output_type": "stream",
     "text": [
      "['HPV45', 'B3', 'pending', 'https://ncbi.nlm.nih.gov/nuccore/pending.1?report=fasta']\n",
      "['HPV45', 'C1', 'pending', 'https://ncbi.nlm.nih.gov/nuccore/pending.1?report=fasta']\n",
      "['HPV45', 'C2', 'pending', 'https://ncbi.nlm.nih.gov/nuccore/pending.1?report=fasta']\n",
      "['HPV31', 'C4', 'pending', 'https://ncbi.nlm.nih.gov/nuccore/pending.1?report=fasta']\n",
      "['HPV11', 'A3', 'pending', 'https://ncbi.nlm.nih.gov/nuccore/pending.1?report=fasta']\n",
      "['HPV11', 'A4', 'pending', 'https://ncbi.nlm.nih.gov/nuccore/pending.1?report=fasta']\n",
      "['HPV11', 'B', 'pending', 'https://ncbi.nlm.nih.gov/nuccore/pending.1?report=fasta']\n"
     ]
    }
   ],
   "source": [
    "# Now getting the ID/Val for the URL with the fasta\n",
    "listOfFailed = []\n",
    "for item in newlist:\n",
    "    \n",
    "    URL = item[3]\n",
    "    #print(URL)\n",
    "    page = requests.get(URL)\n",
    "    soup = BeautifulSoup(page.content, \"xml\")\n",
    "\n",
    "    # Getting value for the fasta containing page\n",
    "    idLine = soup.find(id='viewercontent1')\n",
    "    idLine_str = str(idLine)\n",
    "    NCBI_ID = re.search(\"val=\\\"[0-9]*\\\"\", idLine_str)  # Finding value\n",
    "\n",
    "    # testing that group object exists for reference on webpage\n",
    "    try: \n",
    "        tester = NCBI_ID.group()  # getting matched value\n",
    "    except:\n",
    "        print(item)\n",
    "        listOfFailed.append(item)\n",
    "        continue\n",
    "\n",
    "    NCBI_ID = NCBI_ID.group()  # getting matched value \n",
    "    NCBI_ID = NCBI_ID.replace(\"val=\",\"\")  # removing substring\n",
    "    NCBI_ID = NCBI_ID.replace(\"\\\"\",\"\")  # removing substring\n",
    "    \n",
    "    # Tester for nyere versioner\n",
    "    NCBI_ID2 = URL.replace(\".1\",\".2\")\n",
    "\n",
    "    fastaPage = 'https://www.ncbi.nlm.nih.gov/sviewer/viewer.fcgi?id=' + NCBI_ID + '&db=nuccore&report=gff3'\n",
    "    fastaPage2 = 'https://www.ncbi.nlm.nih.gov/sviewer/viewer.fcgi?id=' + NCBI_ID2 + '&db=nuccore&report=gff3'\n",
    "\n",
    "    sequence = requests.get(fastaPage2)\n",
    "    if sequence.status_code == 200:\n",
    "        print(\"Found 2nd version\")\n",
    "    else:\n",
    "        sequence = requests.get(fastaPage)\n",
    "\n",
    "\n",
    "    # Saving fasta\n",
    "    seq_str = str(sequence.content)\n",
    "    seq_str = seq_str.replace(\"b\\'\",\"\")  # Fjerner byte characterer\n",
    "    seq_str = seq_str.replace(\"\\'\",\"\")  # Fjerner byte characterer\n",
    "    seq_str = seq_str.replace(r'\\n', '\\n') # håndterer \\n så de bliver rigtige newlines\n",
    "    seq_str = seq_str.replace(r'\\t', '\\t') # håndterer \\t så de bliver rigtige newlines\n",
    "    text_file = open(item[0]+'_'+item[2]+\".gff3\", \"w\")  # Åbner ny fil\n",
    "    #print(item[2])\n",
    "    text_file.write(seq_str.format()) # Gemmer fil\n",
    "\n",
    "    for line in text_file:\n",
    "        if not any('match'):\n",
    "            newfile.write(line)\n",
    "\n",
    "    text_file.close()\n"
   ]
  },
  {
   "cell_type": "code",
   "execution_count": null,
   "metadata": {},
   "outputs": [],
   "source": [
    "# Do in bash:\n",
    "# for file in *.gff3; do\n",
    "# grep -Pv \"Genbank\\tmatch\" $file > tmpfile && mv tmpfile $file\n",
    "# done\n"
   ]
  },
  {
   "cell_type": "code",
   "execution_count": null,
   "metadata": {},
   "outputs": [],
   "source": [
    "listOfFailed"
   ]
  }
 ],
 "metadata": {
  "kernelspec": {
   "display_name": "Python 3.8.10 64-bit",
   "language": "python",
   "name": "python3"
  },
  "language_info": {
   "codemirror_mode": {
    "name": "ipython",
    "version": 3
   },
   "file_extension": ".py",
   "mimetype": "text/x-python",
   "name": "python",
   "nbconvert_exporter": "python",
   "pygments_lexer": "ipython3",
   "version": "3.8.10"
  },
  "orig_nbformat": 4,
  "vscode": {
   "interpreter": {
    "hash": "31f2aee4e71d21fbe5cf8b01ff0e069b9275f58929596ceb00d14d90e3e16cd6"
   }
  }
 },
 "nbformat": 4,
 "nbformat_minor": 2
}
