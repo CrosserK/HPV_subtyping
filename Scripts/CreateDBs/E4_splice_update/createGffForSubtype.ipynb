{
 "cells": [
  {
   "cell_type": "code",
   "execution_count": 5,
   "metadata": {},
   "outputs": [],
   "source": [
    "# Kør dette efter bash scriptet til at generere gff3 fil:\n",
    "\n",
    "import os\n",
    "import sys\n",
    "import pandas as pd"
   ]
  },
  {
   "cell_type": "code",
   "execution_count": 63,
   "metadata": {},
   "outputs": [],
   "source": [
    "# Åben gff3 fil\n",
    "\n",
    "subtype=\"FN907962_1\"\n",
    "maintype = \"HPV11\"\n",
    "\n",
    "gffFolder = \"/home/pato/Skrivebord/HPV16_projekt/References/GFFfiles/\"\n",
    "mainfolder = \"Organised_Fastas/\"+maintype\n",
    "e4fixSavePath = \"/home/pato/Skrivebord/HPV16_projekt/References/E4fixCoords\""
   ]
  },
  {
   "cell_type": "code",
   "execution_count": null,
   "metadata": {},
   "outputs": [],
   "source": [
    "# Checking that file does not already have AUHpred \n",
    "txt_file = open(gffFolder+\"/\"+subtype+\".gff3\", \"r\")\n",
    "file_content = txt_file.read()\n",
    "if \"AUHpred\" in file_content:\n",
    "    sys.exit(\"File already have AUHpred\")\n",
    "else:\n",
    "    print(\"updating file\")\n",
    "\n",
    "txt_file.close()"
   ]
  },
  {
   "cell_type": "code",
   "execution_count": 99,
   "metadata": {},
   "outputs": [],
   "source": [
    "gfffile = gffFolder+subtype+\".gff3\"\n",
    "#infile = pd.read_csv(gfffile)\n",
    "with open(gfffile, \"r\") as file:\n",
    "    gffstring = file.readlines()\n",
    "    gffHeader1 = gffstring[0]\n",
    "    gffHeader2 = gffstring[2]\n",
    "\n",
    "# gffHeader1 = infile.columns[0]\n",
    "# gffHeader2 = list(infile.loc[0])[0]"
   ]
  },
  {
   "cell_type": "code",
   "execution_count": 65,
   "metadata": {},
   "outputs": [],
   "source": [
    "# # expanding file to create dataframe\n",
    "# newlist = []\n",
    "\n",
    "# for i in range(1,len(infile)):\n",
    "#     newlist.append(list(infile.loc[i])[0])"
   ]
  },
  {
   "cell_type": "code",
   "execution_count": 66,
   "metadata": {},
   "outputs": [],
   "source": [
    "# df = pd.DataFrame(newlist)\n",
    "# fstSplit = df[0].str.split('\\t', 8, expand=True)\n",
    "# scnsplit = fstSplit[8].str.split(';', 8, expand=True)\n",
    "# newdf = pd.concat([fstSplit,scnsplit], axis = 1)"
   ]
  },
  {
   "cell_type": "code",
   "execution_count": 67,
   "metadata": {},
   "outputs": [],
   "source": [
    "# length = len(newdf.columns)\n",
    "# for i in range(length):\n",
    "#     newdf.columns.values[i] = i"
   ]
  },
  {
   "cell_type": "code",
   "execution_count": 68,
   "metadata": {},
   "outputs": [],
   "source": [
    "# newdf"
   ]
  },
  {
   "cell_type": "code",
   "execution_count": 69,
   "metadata": {},
   "outputs": [],
   "source": [
    "coords = pd.read_csv(mainfolder+\"/\"+subtype+\"_E4coords.csv\", header = None, sep = \" \")\n",
    "\n",
    "# checker for I og D i cigar:\n",
    "if (\"I\" in coords.iloc[0,1]) | (\"I\" in coords.iloc[1,1]):\n",
    "    sys.exit(\"Insertion found. Exiting...\")\n",
    "if (\"D\" in coords.iloc[0,1]) | (\"D\" in coords.iloc[1,1]):\n",
    "    sys.exit(\"Deletion found. Exiting...\")\n",
    "\n",
    "e4s_1 = coords.iloc[0,0]\n",
    "e4e_1 = e4s_1+ int((str(coords.iloc[0,1]).replace(\"M\",\"\")))\n",
    "e4s_2 = coords.iloc[1,0]\n",
    "e4e_2 = e4s_2+ int((str(coords.iloc[1,1]).replace(\"M\",\"\")))\n"
   ]
  },
  {
   "cell_type": "code",
   "execution_count": 110,
   "metadata": {},
   "outputs": [
    {
     "data": {
      "text/html": [
       "<div>\n",
       "<style scoped>\n",
       "    .dataframe tbody tr th:only-of-type {\n",
       "        vertical-align: middle;\n",
       "    }\n",
       "\n",
       "    .dataframe tbody tr th {\n",
       "        vertical-align: top;\n",
       "    }\n",
       "\n",
       "    .dataframe thead th {\n",
       "        text-align: right;\n",
       "    }\n",
       "</style>\n",
       "<table border=\"1\" class=\"dataframe\">\n",
       "  <thead>\n",
       "    <tr style=\"text-align: right;\">\n",
       "      <th></th>\n",
       "      <th>0</th>\n",
       "      <th>1</th>\n",
       "      <th>2</th>\n",
       "      <th>3</th>\n",
       "      <th>4</th>\n",
       "      <th>5</th>\n",
       "      <th>6</th>\n",
       "      <th>7</th>\n",
       "      <th>8</th>\n",
       "    </tr>\n",
       "  </thead>\n",
       "  <tbody>\n",
       "    <tr>\n",
       "      <th>0</th>\n",
       "      <td>FN907962_1</td>\n",
       "      <td>AUHpred</td>\n",
       "      <td>region</td>\n",
       "      <td>1</td>\n",
       "      <td>7934</td>\n",
       "      <td>.</td>\n",
       "      <td>+</td>\n",
       "      <td>.</td>\n",
       "      <td>ID=FN907962_1</td>\n",
       "    </tr>\n",
       "    <tr>\n",
       "      <th>1</th>\n",
       "      <td>FN907962_1</td>\n",
       "      <td>AUHpred</td>\n",
       "      <td>gene</td>\n",
       "      <td>832</td>\n",
       "      <td>3582</td>\n",
       "      <td>.</td>\n",
       "      <td>+</td>\n",
       "      <td>.</td>\n",
       "      <td>ID=E4_splice</td>\n",
       "    </tr>\n",
       "    <tr>\n",
       "      <th>2</th>\n",
       "      <td>FN907962_1</td>\n",
       "      <td>AUHpred</td>\n",
       "      <td>mRNA</td>\n",
       "      <td>832</td>\n",
       "      <td>3582</td>\n",
       "      <td>.</td>\n",
       "      <td>+</td>\n",
       "      <td>.</td>\n",
       "      <td>ID=E4_spliceRNA;Parent=E4_splice</td>\n",
       "    </tr>\n",
       "    <tr>\n",
       "      <th>3</th>\n",
       "      <td>FN907962_1</td>\n",
       "      <td>AUHpred</td>\n",
       "      <td>CDS</td>\n",
       "      <td>832</td>\n",
       "      <td>848</td>\n",
       "      <td>.</td>\n",
       "      <td>+</td>\n",
       "      <td>0</td>\n",
       "      <td>ID=E4cds1;Parent=E4_spliceRNA</td>\n",
       "    </tr>\n",
       "    <tr>\n",
       "      <th>4</th>\n",
       "      <td>FN907962_1</td>\n",
       "      <td>AUHpred</td>\n",
       "      <td>CDS</td>\n",
       "      <td>3325</td>\n",
       "      <td>3582</td>\n",
       "      <td>.</td>\n",
       "      <td>+</td>\n",
       "      <td>0</td>\n",
       "      <td>ID=E4cds2;Parent=E4_spliceRNA</td>\n",
       "    </tr>\n",
       "  </tbody>\n",
       "</table>\n",
       "</div>"
      ],
      "text/plain": [
       "            0        1       2     3     4  5  6  7  \\\n",
       "0  FN907962_1  AUHpred  region     1  7934  .  +  .   \n",
       "1  FN907962_1  AUHpred    gene   832  3582  .  +  .   \n",
       "2  FN907962_1  AUHpred    mRNA   832  3582  .  +  .   \n",
       "3  FN907962_1  AUHpred     CDS   832   848  .  +  0   \n",
       "4  FN907962_1  AUHpred     CDS  3325  3582  .  +  0   \n",
       "\n",
       "                                  8  \n",
       "0                     ID=FN907962_1  \n",
       "1                      ID=E4_splice  \n",
       "2  ID=E4_spliceRNA;Parent=E4_splice  \n",
       "3     ID=E4cds1;Parent=E4_spliceRNA  \n",
       "4     ID=E4cds2;Parent=E4_spliceRNA  "
      ]
     },
     "execution_count": 110,
     "metadata": {},
     "output_type": "execute_result"
    }
   ],
   "source": [
    "# update the file\n",
    "fs = gffHeader2.split(\"\\t\")\n",
    "# Get the length of the first splice section to infer CDS phase. +1 because the positions are inclusive.\n",
    "cdsPhaseCalc = (e4s_2 - e4s_1 + 1) % 3\n",
    "\n",
    "if cdsPhaseCalc == 0:\n",
    "    cdsPhase = 0\n",
    "elif cdsPhaseCalc == 1:\n",
    "    cdsPhase = 2\n",
    "elif cdsPhaseCalc == 1:\n",
    "    cdsPhase = 1\n",
    "else:\n",
    "    sys.exit(\"CDSphase does not go into 0,1 or 2\")\n",
    "\n",
    "row1 = [fs[0],\"AUHpred\",\"region\",fs[3],fs[4],fs[5],fs[6],fs[7],fs[8]]\n",
    "row2 = [fs[0],\"AUHpred\",\"gene\",e4s_1,e4e_2,'.','+','.',\"ID=E4_splice\"]\n",
    "row3 = [fs[0],\"AUHpred\",\"mRNA\",e4s_1,e4e_2,'.','+','.',\"ID=E4_spliceRNA;Parent=E4_splice\"]\n",
    "row4 = [fs[0],\"AUHpred\",\"CDS\",e4s_1,e4e_1,'.','+','0',\"ID=E4cds1;Parent=E4_spliceRNA\"]\n",
    "row5 = [fs[0],\"AUHpred\",\"CDS\",e4s_2,e4e_2,'.','+',cdsPhase,\"ID=E4cds2;Parent=E4_spliceRNA\"]\n",
    "\n",
    "list_lists=[row1,row2,row3,row4,row5]\n",
    "spliceDf = pd.DataFrame(list_lists)\n",
    "spliceDf.iloc[0,8] = spliceDf.iloc[0,8].split(\":\")[0]\n",
    "\n",
    "spliceDf\n",
    "# save to correct position"
   ]
  },
  {
   "cell_type": "code",
   "execution_count": 74,
   "metadata": {},
   "outputs": [],
   "source": [
    "# Add header and save to file\n",
    "\n",
    "row0 = \"##gff-version 3\"\n",
    "row01 = gffHeader1\n",
    "\n",
    "file1 = open(e4fixSavePath+\"/\"+subtype+\".gff3\", \"w\")\n",
    "file1.writelines(row0+\"\\n\")\n",
    "file1.writelines(row01+\"\\n\")\n",
    "file1.close()\n",
    "\n",
    "spliceDf.to_csv(e4fixSavePath+\"/\"+subtype+\".gff3\", header = None, index = None, sep = \"\\t\", mode = \"a\")"
   ]
  },
  {
   "cell_type": "code",
   "execution_count": 75,
   "metadata": {},
   "outputs": [],
   "source": [
    "row1 = [fs[0],\"AUHpred\",\"gene\",e4s_1,e4e_2,'.','+','.',\"ID=E4_splice\"]\n",
    "row2 = [fs[0],\"AUHpred\",\"mRNA\",e4s_1,e4e_1,'.','+','.',\"ID=E4_spliceRNA1;Parent=E4_splice\"]\n",
    "row3 = [fs[0],\"AUHpred\",\"mRNA\",e4s_2,e4e_2,'.','+','.',\"ID=E4_spliceRNA2;Parent=E4_splice\"]\n",
    "row4 = [fs[0],\"AUHpred\",\"CDS\",e4s_1,e4e_1,'.','+','0',\"ID=E4exon1;Parent=E4_spliceRNA1\"]\n",
    "row5 = [fs[0],\"AUHpred\",\"CDS\",e4s_2,e4e_2,'.','+',cdsPhase,\"ID=E4exon2;Parent=E4_spliceRNA2\"]\n",
    "\n",
    "list_lists=[row1,row2,row3,row4,row5]\n",
    "spliceDf = pd.DataFrame(list_lists)\n",
    "spliceDf.iloc[0,8] = spliceDf.iloc[0,8].split(\":\")[0]\n",
    "\n",
    "spliceDf.to_csv(gffFolder+\"/\"+subtype+\".gff3\", header = None, index = None, sep = \"\\t\", mode = \"a\")"
   ]
  },
  {
   "cell_type": "code",
   "execution_count": null,
   "metadata": {},
   "outputs": [],
   "source": []
  }
 ],
 "metadata": {
  "kernelspec": {
   "display_name": "Python 3.8.10 64-bit",
   "language": "python",
   "name": "python3"
  },
  "language_info": {
   "codemirror_mode": {
    "name": "ipython",
    "version": 3
   },
   "file_extension": ".py",
   "mimetype": "text/x-python",
   "name": "python",
   "nbconvert_exporter": "python",
   "pygments_lexer": "ipython3",
   "version": "3.8.10"
  },
  "orig_nbformat": 4,
  "vscode": {
   "interpreter": {
    "hash": "31f2aee4e71d21fbe5cf8b01ff0e069b9275f58929596ceb00d14d90e3e16cd6"
   }
  }
 },
 "nbformat": 4,
 "nbformat_minor": 2
}
