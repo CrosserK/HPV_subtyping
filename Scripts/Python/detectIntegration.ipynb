{
 "cells": [
  {
   "cell_type": "code",
   "execution_count": 7,
   "metadata": {},
   "outputs": [],
   "source": [
    "import os, sys\n",
    "import glob\n",
    "import pandas as pd\n",
    "from os import listdir\n",
    "from os.path import isfile, join\n",
    "from argparse import ArgumentParser\n",
    "\n",
    "#Covarage matrix as csv file without qoutes, seperated by commas\n",
    "file = \"/home/pato/Skrivebord/HPV_subtyping/FASTQ/covMatrix.csv\"\n",
    "amplPos = \"/home/pato/Skrivebord/HPV_subtyping/FASTQ/amplPos.bed\"\n",
    "fastqFiles = \"/home/pato/Skrivebord/HPV_subtyping/FASTQ\"\n",
    "\n",
    "# Housegenes to check and remove\n",
    "houseGeneEndRow = 5\n",
    "typeTier=1\n",
    "\n",
    "# Location of all valid reference names that can be given\n",
    "path = \"/home/pato/Skrivebord/HPV_subtyping/References\"\n",
    "\n",
    "# Location of where to save output files\n",
    "refSavePath = \"/home/pato/Skrivebord/HPV_subtyping/Scripts/Python/autoDetTest\"\n",
    "logFile = \"/home/pato/Skrivebord/HPV_subtyping/Results/testlog.txt\"\n",
    "\n",
    "\n",
    "faF = [f for f in listdir(path) if isfile(join(path, f))]\n",
    "faFiles = []\n",
    "for i in faF:\n",
    "    if \"fasta.fai\" not in i:\n",
    "        faFiles.append(i)\n",
    "df = pd.read_csv(file,sep=\",\")\n",
    "\n",
    "housegenes = list(df.iloc[0:int(houseGeneEndRow),0])\n"
   ]
  },
  {
   "cell_type": "code",
   "execution_count": 4,
   "metadata": {},
   "outputs": [
    {
     "data": {
      "text/plain": [
       "[]"
      ]
     },
     "execution_count": 4,
     "metadata": {},
     "output_type": "execute_result"
    }
   ],
   "source": [
    "excludeCols = ['Sort column', 'Gene', 'contig_srt', 'contig_end', 'Target']\n",
    "sampleList = []\n",
    "discardedList = []\n",
    "\n",
    "for col in df.columns:\n",
    "  \n",
    "    if col not in excludeCols:\n",
    "\n",
    "        # Checking housegenes, first get total cov of them\n",
    "        hgTot = 0\n",
    "        for gene in housegenes:\n",
    "            \n",
    "            hg = df[df['Gene']==gene]\n",
    "            hgTot+= int(hg[col])\n",
    "\n",
    "        # Now finding outliers in housegene coverage\n",
    "        notEnoughCov = 0\n",
    "        for gene in housegenes:\n",
    "            \n",
    "            hg = df[df['Gene']==gene]\n",
    "            geneCov = int(hg[col])\n",
    "\n",
    "            # set min cov on housegene to not count as failed\n",
    "            if geneCov < hgTot*0.1:\n",
    "                notEnoughCov+=1\n",
    "            \n",
    "        # discard sample if too many low housegenes\n",
    "        if notEnoughCov < 4:\n",
    "            sampleList.append(col)\n",
    "        else:\n",
    "            discardedList.append(col)\n",
    "discardedList"
   ]
  },
  {
   "cell_type": "code",
   "execution_count": 105,
   "metadata": {},
   "outputs": [],
   "source": [
    "# Now remove housegenes from samples\n",
    "ddf = df[~df['Gene'].isin(housegenes)]"
   ]
  },
  {
   "cell_type": "code",
   "execution_count": 106,
   "metadata": {},
   "outputs": [],
   "source": [
    "ampl_df = pd.read_csv(amplPos,sep=\"\\t\", header = None)"
   ]
  },
  {
   "cell_type": "code",
   "execution_count": 107,
   "metadata": {},
   "outputs": [
    {
     "name": "stderr",
     "output_type": "stream",
     "text": [
      "<ipython-input-107-38ffdf97ff06>:5: SettingWithCopyWarning: \n",
      "A value is trying to be set on a copy of a slice from a DataFrame.\n",
      "Try using .loc[row_indexer,col_indexer] = value instead\n",
      "\n",
      "See the caveats in the documentation: https://pandas.pydata.org/pandas-docs/stable/user_guide/indexing.html#returning-a-view-versus-a-copy\n",
      "  ddf['Target'] = amplList\n"
     ]
    }
   ],
   "source": [
    "# Getting amplicon id\n",
    "amplList = []\n",
    "for i in ddf['Gene']:\n",
    "    amplList.append(i.split(\"_\")[-1])\n",
    "ddf['Target'] = amplList"
   ]
  },
  {
   "cell_type": "code",
   "execution_count": null,
   "metadata": {},
   "outputs": [],
   "source": [
    "ddf[['Type', 'Gene']] = ddf['Gene'].str.split('_', 1, expand=True)\n",
    "# Removing Ampl from gene\n",
    "# Getting amplicon id\n",
    "GeneList = []\n",
    "for i in ddf['Gene']:\n",
    "    GeneList.append(i.split(\"AMPL\")[~-1])\n",
    "ddf['Gene'] = GeneList\n"
   ]
  },
  {
   "cell_type": "code",
   "execution_count": 120,
   "metadata": {},
   "outputs": [],
   "source": [
    "ampl = pd.DataFrame()"
   ]
  },
  {
   "cell_type": "code",
   "execution_count": 121,
   "metadata": {},
   "outputs": [],
   "source": [
    "ampl['Target'] = ampl_df[3]\n",
    "ampl['contig_srt'] = ampl_df[1]\n",
    "ampl['contig_end'] = ampl_df[2]"
   ]
  },
  {
   "cell_type": "code",
   "execution_count": 126,
   "metadata": {},
   "outputs": [],
   "source": [
    "ddf = ddf.merge(ampl,on='Target')"
   ]
  },
  {
   "cell_type": "code",
   "execution_count": 127,
   "metadata": {},
   "outputs": [],
   "source": [
    "# Look for deletions (possible integrations of the genome) by finding regions of very low coverage\n",
    "hpvTypes = pd.unique(ddf['Type'])\n",
    "\n",
    "for type in hpvTypes:\n",
    "    filtered = ddf[ddf['Type'] == type]"
   ]
  },
  {
   "cell_type": "code",
   "execution_count": 138,
   "metadata": {},
   "outputs": [],
   "source": [
    "delJson = {}\n",
    "\n",
    "for sample in sampleList:\n",
    "    for hpvtype in hpvTypes:\n",
    "        filtered = ddf[ddf['Type'] == hpvtype]\n",
    "        leng = len(filtered[sample])\n",
    "        sum = filtered[sample].sum()\n",
    "        \n",
    "        # If sum of HPV type cover is less than n, do not call an integration\n",
    "        if sum < 50:\n",
    "            continue\n",
    "\n",
    "        avg = sum / leng\n",
    "        if avg > 50:\n",
    "            cutoff = 50\n",
    "        else:\n",
    "            cutoff = avg*0.1\n",
    "\n",
    "        #for sample in sampleList:#\n",
    "        filtered = filtered.reset_index()\n",
    "        lastIdx = 0\n",
    "        for index, row in filtered.iterrows():\n",
    "            \n",
    "            if row[sample] < cutoff:\n",
    "                # Check if last index contained low cov (potential deletion)\n",
    "                if (lastIdx == index - 1) or (lastIdx == 0):\n",
    "\n",
    "                    if 'startpos' not in locals():\n",
    "                        startpos = row['contig_srt']\n",
    "                    stoppos = row['contig_end']\n",
    "                    lastIdx = index\n",
    "\n",
    "                else:\n",
    "                    # This is start of a new deletion\n",
    "                    startpos = row['contig_srt']\n",
    "                    lastrow = row\n",
    "                    lastIdx = index\n",
    "\n",
    "\n",
    "            else:\n",
    "                # save found startpos and endpos\n",
    "                if 'startpos' in locals():\n",
    "                    if 'stoppos' not in locals():\n",
    "                        stoppos = lastrow['contig_end']\n",
    "\n",
    "                    # create key if it does not exist:\n",
    "                    if sample in delJson.keys():\n",
    "                        pass\n",
    "                    else:    \n",
    "                        delJson[sample] = {\n",
    "                        'del' : []\n",
    "                        }\n",
    "\n",
    "                    delJson[sample]['del'].append([hpvtype,startpos,stoppos])\n",
    "\n",
    "                    #save\n",
    "                    del startpos, stoppos"
   ]
  },
  {
   "cell_type": "code",
   "execution_count": 139,
   "metadata": {},
   "outputs": [
    {
     "data": {
      "text/plain": [
       "{'IonXpress_003': {'del': [['HPV45', 194, 459]]},\n",
       " 'IonXpress_005': {'del': [['HPV16', 2878, 6617]]},\n",
       " 'IonXpress_006': {'del': [['HPV58', 744, 830]]},\n",
       " 'IonXpress_008': {'del': [['HPV45', 194, 459],\n",
       "   ['HPV45', 2878, 2958],\n",
       "   ['HPV45', 3451, 3546]]},\n",
       " 'IonXpress_012': {'del': [['HPV16', 149, 234],\n",
       "   ['HPV16', 729, 808],\n",
       "   ['HPV16', 3345, 3438]]},\n",
       " 'IonXpress_015': {'del': [['HPV33', 383, 663], ['HPV33', 2853, 3558]]},\n",
       " 'IonXpress_020': {'del': [['HPV39', 2894, 287]]},\n",
       " 'IonXpress_024': {'del': [['HPV45', 373, 459], ['HPV45', 2878, 2958]]},\n",
       " 'IonXpress_029': {'del': [['HPV16', 149, 234],\n",
       "   ['HPV16', 575, 665],\n",
       "   ['HPV16', 2870, 3438]]},\n",
       " 'IonXpress_031': {'del': [['HPV35', 2853, 257], ['HPV35', 3323, 3405]]},\n",
       " 'IonXpress_040': {'del': [['HPV16', 2878, 6617]]},\n",
       " 'IonXpress_043': {'del': [['HPV33', 383, 663], ['HPV33', 3339, 3423]]},\n",
       " 'IonXpress_046': {'del': [['HPV18', 130, 220], ['HPV18', 2857, 3676]]},\n",
       " 'IonXpress_048': {'del': [['HPV31', 2878, 6617]]},\n",
       " 'IonXpress_049': {'del': [['HPV70', 634, 718]]},\n",
       " 'IonXpress_050': {'del': [['HPV16', 149, 234],\n",
       "   ['HPV16', 729, 808],\n",
       "   ['HPV16', 3345, 3438]]},\n",
       " 'IonXpress_051': {'del': [['HPV45', 6557, 279], ['HPV45', 623, 697]]},\n",
       " 'IonXpress_053': {'del': [['HPV16', 2878, 6617]]},\n",
       " 'IonXpress_054': {'del': [['HPV16', 575, 665], ['HPV16', 3345, 3438]]},\n",
       " 'IonXpress_057': {'del': [['HPV16', 6557, 6633]]},\n",
       " 'IonXpress_063': {'del': [['HPV18', 130, 684],\n",
       "   ['HPV18', 2857, 2932],\n",
       "   ['HPV18', 3585, 3676]]},\n",
       " 'IonXpress_066': {'del': [['HPV16', 149, 234],\n",
       "   ['HPV16', 575, 665],\n",
       "   ['HPV16', 2870, 3563]]}}"
      ]
     },
     "execution_count": 139,
     "metadata": {},
     "output_type": "execute_result"
    }
   ],
   "source": [
    "delJson"
   ]
  },
  {
   "cell_type": "code",
   "execution_count": 141,
   "metadata": {},
   "outputs": [],
   "source": [
    "integrationDF = pd.DataFrame(delJson)"
   ]
  },
  {
   "cell_type": "code",
   "execution_count": 142,
   "metadata": {},
   "outputs": [],
   "source": [
    "filename = refSavePath+\"/PossibleIntegrations.txt\""
   ]
  },
  {
   "cell_type": "code",
   "execution_count": 143,
   "metadata": {},
   "outputs": [],
   "source": [
    "integrationDF.to_csv(filename)"
   ]
  }
 ],
 "metadata": {
  "kernelspec": {
   "display_name": "Python 3.8.10 64-bit",
   "language": "python",
   "name": "python3"
  },
  "language_info": {
   "codemirror_mode": {
    "name": "ipython",
    "version": 3
   },
   "file_extension": ".py",
   "mimetype": "text/x-python",
   "name": "python",
   "nbconvert_exporter": "python",
   "pygments_lexer": "ipython3",
   "version": "3.8.10"
  },
  "orig_nbformat": 4,
  "vscode": {
   "interpreter": {
    "hash": "31f2aee4e71d21fbe5cf8b01ff0e069b9275f58929596ceb00d14d90e3e16cd6"
   }
  }
 },
 "nbformat": 4,
 "nbformat_minor": 2
}
