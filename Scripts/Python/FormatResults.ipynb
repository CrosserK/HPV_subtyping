{
 "cells": [
  {
   "cell_type": "code",
   "execution_count": 19,
   "metadata": {},
   "outputs": [],
   "source": [
    "import os, sys\n",
    "import glob\n",
    "import math\n",
    "import pandas as pd\n",
    "from os import listdir\n",
    "from os.path import isfile, join\n",
    "from argparse import ArgumentParser\n",
    "\n",
    "#Covarage matrix as csv file without qoutes, seperated by commas\n",
    "folder = \"/home/pato/Skrivebord/HPV_subtyping/Results/\"\n",
    "topRunName = \"Reanalyze_user_S5-0184-347-HPV_genotypering_Sara_Opsaet_10_A_1424_14112022\"\n",
    "indFile = \"AnnotationIndividualFiles_\"+topRunName+\".txt\"\n",
    "sumFile = \"AnnotationSummary_\"+topRunName+\".txt\"\n",
    "\n",
    "indFile = folder + topRunName + \"/\" + indFile\n",
    "sumFile = folder + topRunName + \"/\" + sumFile\n",
    "\n",
    "sublineagesFile = \"/home/pato/Skrivebord/HPV_subtyping/References/ReferenceToSublineage.csv\"\n"
   ]
  },
  {
   "cell_type": "code",
   "execution_count": 35,
   "metadata": {},
   "outputs": [
    {
     "data": {
      "text/plain": [
       "'/home/pato/Skrivebord/HPV_subtyping/Results/Reanalyze_user_S5-0184-347-HPV_genotypering_Sara_Opsaet_10_A_1424_14112022/AnnotationSummary_Reanalyze_user_S5-0184-347-HPV_genotypering_Sara_Opsaet_10_A_1424_14112022.txt'"
      ]
     },
     "execution_count": 35,
     "metadata": {},
     "output_type": "execute_result"
    }
   ],
   "source": [
    "sumFile"
   ]
  },
  {
   "cell_type": "code",
   "execution_count": 30,
   "metadata": {},
   "outputs": [],
   "source": [
    "sumdf = pd.read_csv(sumFile, sep = \"\\t\")\n",
    "inddf = pd.read_csv(indFile, sep = \"\\t\")\n",
    "sublineages = pd.read_csv(sublineagesFile, sep = \",\", header=None)"
   ]
  },
  {
   "cell_type": "code",
   "execution_count": 22,
   "metadata": {},
   "outputs": [
    {
     "data": {
      "text/html": [
       "<div>\n",
       "<style scoped>\n",
       "    .dataframe tbody tr th:only-of-type {\n",
       "        vertical-align: middle;\n",
       "    }\n",
       "\n",
       "    .dataframe tbody tr th {\n",
       "        vertical-align: top;\n",
       "    }\n",
       "\n",
       "    .dataframe thead th {\n",
       "        text-align: right;\n",
       "    }\n",
       "</style>\n",
       "<table border=\"1\" class=\"dataframe\">\n",
       "  <thead>\n",
       "    <tr style=\"text-align: right;\">\n",
       "      <th></th>\n",
       "      <th>0</th>\n",
       "      <th>1</th>\n",
       "      <th>2</th>\n",
       "      <th>3</th>\n",
       "      <th>4</th>\n",
       "    </tr>\n",
       "  </thead>\n",
       "  <tbody>\n",
       "    <tr>\n",
       "      <th>0</th>\n",
       "      <td>Alpha-10</td>\n",
       "      <td>HPV11</td>\n",
       "      <td>A</td>\n",
       "      <td>A1</td>\n",
       "      <td>M14119</td>\n",
       "    </tr>\n",
       "    <tr>\n",
       "      <th>1</th>\n",
       "      <td>Alpha-10</td>\n",
       "      <td>HPV11</td>\n",
       "      <td>A</td>\n",
       "      <td>A2</td>\n",
       "      <td>FN907962</td>\n",
       "    </tr>\n",
       "    <tr>\n",
       "      <th>2</th>\n",
       "      <td>Alpha-10</td>\n",
       "      <td>HPV11</td>\n",
       "      <td>A</td>\n",
       "      <td>A3</td>\n",
       "      <td>pending</td>\n",
       "    </tr>\n",
       "    <tr>\n",
       "      <th>3</th>\n",
       "      <td>Alpha-10</td>\n",
       "      <td>HPV11</td>\n",
       "      <td>A</td>\n",
       "      <td>A4</td>\n",
       "      <td>pending</td>\n",
       "    </tr>\n",
       "    <tr>\n",
       "      <th>4</th>\n",
       "      <td>Alpha-10</td>\n",
       "      <td>HPV11</td>\n",
       "      <td>B</td>\n",
       "      <td>B</td>\n",
       "      <td>pending</td>\n",
       "    </tr>\n",
       "    <tr>\n",
       "      <th>...</th>\n",
       "      <td>...</td>\n",
       "      <td>...</td>\n",
       "      <td>...</td>\n",
       "      <td>...</td>\n",
       "      <td>...</td>\n",
       "    </tr>\n",
       "    <tr>\n",
       "      <th>152</th>\n",
       "      <td>Alpha-5</td>\n",
       "      <td>HPV82</td>\n",
       "      <td>C</td>\n",
       "      <td>C3</td>\n",
       "      <td>KF436801</td>\n",
       "    </tr>\n",
       "    <tr>\n",
       "      <th>153</th>\n",
       "      <td>Alpha-5</td>\n",
       "      <td>HPV82</td>\n",
       "      <td>C</td>\n",
       "      <td>C4</td>\n",
       "      <td>KF436802</td>\n",
       "    </tr>\n",
       "    <tr>\n",
       "      <th>154</th>\n",
       "      <td>Alpha-5</td>\n",
       "      <td>HPV82</td>\n",
       "      <td>C</td>\n",
       "      <td>C5</td>\n",
       "      <td>KF436803</td>\n",
       "    </tr>\n",
       "    <tr>\n",
       "      <th>155</th>\n",
       "      <td>Alpha-7</td>\n",
       "      <td>HPV85</td>\n",
       "      <td>A</td>\n",
       "      <td>A1</td>\n",
       "      <td>AF131950</td>\n",
       "    </tr>\n",
       "    <tr>\n",
       "      <th>156</th>\n",
       "      <td>Alpha-7</td>\n",
       "      <td>HPV97</td>\n",
       "      <td>A</td>\n",
       "      <td>A1</td>\n",
       "      <td>EF202168</td>\n",
       "    </tr>\n",
       "  </tbody>\n",
       "</table>\n",
       "<p>157 rows × 5 columns</p>\n",
       "</div>"
      ],
      "text/plain": [
       "            0      1  2   3         4\n",
       "0    Alpha-10  HPV11  A  A1    M14119\n",
       "1    Alpha-10  HPV11  A  A2  FN907962\n",
       "2    Alpha-10  HPV11  A  A3   pending\n",
       "3    Alpha-10  HPV11  A  A4   pending\n",
       "4    Alpha-10  HPV11  B   B   pending\n",
       "..        ...    ... ..  ..       ...\n",
       "152   Alpha-5  HPV82  C  C3  KF436801\n",
       "153   Alpha-5  HPV82  C  C4  KF436802\n",
       "154   Alpha-5  HPV82  C  C5  KF436803\n",
       "155   Alpha-7  HPV85  A  A1  AF131950\n",
       "156   Alpha-7  HPV97  A  A1  EF202168\n",
       "\n",
       "[157 rows x 5 columns]"
      ]
     },
     "execution_count": 22,
     "metadata": {},
     "output_type": "execute_result"
    }
   ],
   "source": [
    "sublineages"
   ]
  },
  {
   "cell_type": "code",
   "execution_count": 23,
   "metadata": {},
   "outputs": [],
   "source": [
    "genes = list(sumdf['GENEID'].unique())\n",
    "cols = ['Patient','Type','Reference matched','Sublineage']\n",
    "cols.extend(genes)"
   ]
  },
  {
   "cell_type": "code",
   "execution_count": 24,
   "metadata": {},
   "outputs": [],
   "source": [
    "for item in cols.copy():\n",
    "    if \"DoesNotExist\" in item:\n",
    "        cols.remove(item)"
   ]
  },
  {
   "cell_type": "code",
   "execution_count": 25,
   "metadata": {},
   "outputs": [
    {
     "data": {
      "text/plain": [
       "['Patient',\n",
       " 'Type',\n",
       " 'Reference matched',\n",
       " 'Sublineage',\n",
       " 'E6',\n",
       " 'gene-E7-138',\n",
       " 'E4_splice',\n",
       " 'gene-E2-139',\n",
       " 'gene-E4-112',\n",
       " 'gene-L1-141']"
      ]
     },
     "execution_count": 25,
     "metadata": {},
     "output_type": "execute_result"
    }
   ],
   "source": [
    "cols"
   ]
  },
  {
   "cell_type": "code",
   "execution_count": 36,
   "metadata": {},
   "outputs": [
    {
     "data": {
      "text/plain": [
       "[{'Patient': '24_Baseline.IonXpress_006',\n",
       "  'Type': 'HPV11',\n",
       "  'Reference matched': 'HQ537752_1',\n",
       "  'Sublineage': 'A1',\n",
       "  'E6': '',\n",
       "  'gene-E7-138': ['c.744G>T', 'p.T57T'],\n",
       "  'E4_splice': ['c.3550C>T', 'p.H66Y'],\n",
       "  'gene-E2-139': ['c.3550C>T', 'p.C266C'],\n",
       "  'gene-E4-112': ['c.3550C>T', 'p.A74V'],\n",
       "  'gene-L1-141': ['c.6539G>A', 'p.M325I']},\n",
       " {'Patient': '111_Baseline.IonXpress_041',\n",
       "  'Type': 'HPV11',\n",
       "  'Reference matched': 'HQ644236_1',\n",
       "  'Sublineage': 'A1',\n",
       "  'E6': '',\n",
       "  'gene-E7-138': '',\n",
       "  'E4_splice': '',\n",
       "  'gene-E2-139': '',\n",
       "  'gene-E4-112': '',\n",
       "  'gene-L1-141': ''},\n",
       " {'Patient': '16_Baseline.IonXpress_005',\n",
       "  'Type': '',\n",
       "  'Reference matched': 'HPV16_K02718_1_revised',\n",
       "  'Sublineage': '',\n",
       "  'E6': ['c.187A>G', 'p.L28L'],\n",
       "  'gene-E7-138': '',\n",
       "  'E4_splice': '',\n",
       "  'gene-E2-139': '',\n",
       "  'gene-E4-112': '',\n",
       "  'gene-L1-141': ''}]"
      ]
     },
     "execution_count": 36,
     "metadata": {},
     "output_type": "execute_result"
    }
   ],
   "source": [
    "sumJson = []\n",
    "for patient in inddf.columns:\n",
    "    # Making json with col names\n",
    "    ptjson = {}\n",
    "    for col in cols:\n",
    "        ptjson.update({\n",
    "            col : \"\"\n",
    "        })\n",
    "    \n",
    "    # Getting patient name, reference and sublineage\n",
    "    spl = patient.split(\":\")\n",
    "    ref = spl[1]\n",
    "    sublineage = \"\"\n",
    "    type = \"\"\n",
    "    # Getting sublineage class and type from the reference id\n",
    "    iteration = 0\n",
    "\n",
    "    for i in sublineages[4]:\n",
    "        if i in ref:\n",
    "            sublineage = sublineages[3][iteration]\n",
    "            type = sublineages[1][iteration]\n",
    "    iteration +=1\n",
    "\n",
    "    ptjson.update({\n",
    "        'Patient' : spl[0],\n",
    "        'Type' : type,\n",
    "        'Reference matched' : spl[1],\n",
    "        'Sublineage' : sublineage\n",
    "    })\n",
    "\n",
    "    # For each row, get nuc and aa changes and match to gene key\n",
    "    for row in inddf[patient]:\n",
    "        # This check fails if value is NA\n",
    "        if row == row:\n",
    "            splt = row.split(\" \")\n",
    "            # Try to split, because if the cell contains a message such as \"NoE4File\", the column should be skipped. \n",
    "            if len(splt) != 4:\n",
    "                continue\n",
    "            nuc = splt[0]\n",
    "            aa = splt[1]\n",
    "            gene = splt[2]\n",
    "            ptjson.update({\n",
    "                gene : [nuc,aa]\n",
    "            })\n",
    "    #jsonlist = [ptjson]\n",
    "    sumJson.append(ptjson)\n",
    "sumJson"
   ]
  },
  {
   "cell_type": "code",
   "execution_count": 34,
   "metadata": {},
   "outputs": [],
   "source": [
    "# Convert to dataframe and save to file\n",
    "formDf = pd.DataFrame.from_dict(sumJson)\n",
    "filename = folder+\"/\"+topRunName+\"/AnnotationFormatted_\"+topRunName+\".txt\"\n",
    "formDf.to_csv(filename, index = False)"
   ]
  }
 ],
 "metadata": {
  "kernelspec": {
   "display_name": "Python 3.8.10 64-bit",
   "language": "python",
   "name": "python3"
  },
  "language_info": {
   "codemirror_mode": {
    "name": "ipython",
    "version": 3
   },
   "file_extension": ".py",
   "mimetype": "text/x-python",
   "name": "python",
   "nbconvert_exporter": "python",
   "pygments_lexer": "ipython3",
   "version": "3.8.10"
  },
  "orig_nbformat": 4,
  "vscode": {
   "interpreter": {
    "hash": "31f2aee4e71d21fbe5cf8b01ff0e069b9275f58929596ceb00d14d90e3e16cd6"
   }
  }
 },
 "nbformat": 4,
 "nbformat_minor": 2
}
