{
 "cells": [
  {
   "cell_type": "code",
   "execution_count": 1,
   "metadata": {},
   "outputs": [],
   "source": [
    "import os, sys\n",
    "import pandas as pd\n",
    "from os import listdir\n",
    "from os.path import isfile, join"
   ]
  },
  {
   "cell_type": "code",
   "execution_count": 2,
   "metadata": {},
   "outputs": [],
   "source": [
    "# Input\n",
    "\n",
    "#Covarage matrix as csv file without qoutes, seperated by commas\n",
    "file = \"/home/pato/Skrivebord/HPV_subtyping/Andet/covMatrixTest.csv\"\n",
    "\n",
    "# Housegenes to check and remove\n",
    "housegenes = ['PABPN1','SRSF3','PPIE','RAB1B','BTF3']\n",
    "\n",
    "# Location of all valid reference names that can be given\n",
    "path = \"/home/pato/Skrivebord/HPV_subtyping/References\"\n",
    "\n",
    "# Location of where to save output files\n",
    "refSavePath = \"/home/pato/Skrivebord/HPV_subtyping/References/InputRefs\""
   ]
  },
  {
   "cell_type": "code",
   "execution_count": 3,
   "metadata": {},
   "outputs": [],
   "source": [
    "faF = [f for f in listdir(path) if isfile(join(path, f))]\n",
    "faFiles = []\n",
    "for i in faF:\n",
    "    if \"fasta.fai\" not in i:\n",
    "        faFiles.append(i)"
   ]
  },
  {
   "cell_type": "code",
   "execution_count": 4,
   "metadata": {},
   "outputs": [],
   "source": [
    "df = pd.read_csv(file,sep=\",\")\n"
   ]
  },
  {
   "cell_type": "code",
   "execution_count": 5,
   "metadata": {},
   "outputs": [],
   "source": [
    "# Finder samples\n",
    "\n",
    "excludeCols = ['Sort column', 'Gene', 'contig_srt', 'contig_end', 'Target']\n",
    "sampleList = []\n",
    "discardedList = []\n",
    "\n",
    "for col in df.columns:\n",
    "  \n",
    "    if col not in excludeCols:\n",
    "\n",
    "        # Checking housegenes, first get total cov of them\n",
    "        hgTot = 0\n",
    "        for gene in housegenes:\n",
    "            \n",
    "            hg = df[df['Gene']==gene]\n",
    "            hgTot+= int(hg[col])\n",
    "\n",
    "        # Now finding outliers in housegene coverage\n",
    "        notEnoughCov = 0\n",
    "        for gene in housegenes:\n",
    "            \n",
    "            hg = df[df['Gene']==gene]\n",
    "            geneCov = int(hg[col])\n",
    "\n",
    "            # set min cov on housegene to not count as failed\n",
    "            if geneCov < hgTot*0.1:\n",
    "                notEnoughCov+=1\n",
    "            \n",
    "        # discard sample if too many low housegenes\n",
    "        if notEnoughCov < 4:\n",
    "            sampleList.append(col)\n",
    "        else:\n",
    "            discardedList.append(col)"
   ]
  },
  {
   "cell_type": "code",
   "execution_count": 6,
   "metadata": {},
   "outputs": [
    {
     "data": {
      "text/plain": [
       "[]"
      ]
     },
     "execution_count": 6,
     "metadata": {},
     "output_type": "execute_result"
    }
   ],
   "source": [
    "discardedList"
   ]
  },
  {
   "cell_type": "code",
   "execution_count": 7,
   "metadata": {},
   "outputs": [],
   "source": [
    "# Now remove housegenes from samples\n",
    "ddf = df[~df['Gene'].isin(housegenes)]"
   ]
  },
  {
   "cell_type": "code",
   "execution_count": 8,
   "metadata": {},
   "outputs": [],
   "source": [
    "# Split i samples og find hvilke HPV typer der passer\n",
    "hpvTypes = pd.unique(ddf['Gene'])"
   ]
  },
  {
   "cell_type": "code",
   "execution_count": 9,
   "metadata": {},
   "outputs": [],
   "source": [
    "filtered = ddf[ddf['Gene'] == \"HPV45HR_X74479\"]\n",
    "meanCov = filtered[\"IonXpress_041\"].sum()"
   ]
  },
  {
   "cell_type": "code",
   "execution_count": 10,
   "metadata": {},
   "outputs": [],
   "source": [
    "# For sample, find HPV types in them\n",
    "covJson = {}\n",
    "for sample in sampleList:\n",
    "    covJson.update({sample : {\n",
    "    }})\n",
    "\n",
    "    for hpv in hpvTypes:\n",
    "        filtered = ddf[ddf['Gene'] == hpv]\n",
    "        \n",
    "        # Tilsætter sample, hpvtype og sum af dækning for regioner i hpvtype\n",
    "        covJson[sample].update({\n",
    "            hpv : filtered[sample].sum()\n",
    "            })"
   ]
  },
  {
   "cell_type": "code",
   "execution_count": null,
   "metadata": {},
   "outputs": [],
   "source": [
    "# Tæl sum af dækning over alle regioner for sample, derefter angiv fraktioner\n",
    "\n",
    "ratioJson = {}\n",
    "\n",
    "\n",
    "for sample in covJson.keys():\n",
    "    # Tæl total cov over gener for sample\n",
    "    sampleCovTotal = 0\n",
    "    for hpvtype, cov in covJson[sample].items():\n",
    "        sampleCovTotal+=cov\n",
    "    # Har nu total, og kan derfor loope igennem igen og lave ratios\n",
    "    # Sætter sample name:\n",
    "    ratioJson.update({sample : {\n",
    "        }})\n",
    "    \n",
    "    for hpvtype, cov in covJson[sample].items():\n",
    "        \n",
    "\n",
    "        ratioJson[sample].update({\n",
    "            hpvtype : cov/sampleCovTotal*100\n",
    "            })"
   ]
  },
  {
   "cell_type": "code",
   "execution_count": 48,
   "metadata": {},
   "outputs": [],
   "source": [
    "confirmedJson = {}\n",
    "\n",
    "\n",
    "for sample in ratioJson.keys():\n",
    "    \n",
    "    confirmedJson.update({sample : {\n",
    "        }})\n",
    "    \n",
    "    foundOneForSample = \"no\"\n",
    "    highestRatio = 0\n",
    "    for hpvtype, ratioCov in ratioJson[sample].items():\n",
    "        \n",
    "        # Define minimum ratio to confirm in sample (1 to 100)\n",
    "        if ratioCov > 20: \n",
    "            confirm = \"yes\" \n",
    "            foundOneForSample = \"yes\"\n",
    "            if ratioCov > highestRatio:\n",
    "                highestRatio = ratioCov\n",
    "                highestRatioName = hpvtype\n",
    "        else: \n",
    "            confirm = \"no\"\n",
    "\n",
    "        confirmedJson[sample].update({\n",
    "            hpvtype : confirm\n",
    "            })\n",
    "\n",
    "        # If no one meets the minimum ratioCov value, set the highest cov as best match\n",
    "        if foundOneForSample == \"no\":\n",
    "            for hpvtype, ratioCov in ratioJson[sample].items():\n",
    "                if hpvtype == highestRatioName:\n",
    "                    confirmedJson[sample].update({\n",
    "                        hpvtype : \"yes\"\n",
    "                        })\n",
    "\n",
    "\n"
   ]
  },
  {
   "cell_type": "code",
   "execution_count": 51,
   "metadata": {},
   "outputs": [],
   "source": [
    "# For each sample output confirmed hpv types to file\n",
    "multiFa = []\n",
    "for sample in confirmedJson.keys():\n",
    "    for hpvtype, val in confirmedJson[sample].items():\n",
    "        if val == \"yes\":\n",
    "\n",
    "            # convert name to fit fasta files:\n",
    "            ht = hpvtype.split('_')[1]\n",
    "\n",
    "            # search list of fasta files for id\n",
    "            ref = [i for i in faFiles if ht in i]\n",
    "            # Checking that there is only one match, then saving without .fasta in name\n",
    "            if len(ref) > 1:\n",
    "                multiFa.append([sample, ref])\n",
    "            else:\n",
    "                ref = ref[0].replace(\".fasta\",\"\")\n",
    "                # Append to file\n",
    "                filename = refSavePath+\"/\"+sample+\".txt\"\n",
    "                f = open(filename, \"a\")\n",
    "                f.write(ref+\"\\n\")\n",
    "                f.close()\n",
    "\n",
    "# Printing those with multiple hits. Fix these by removing one or more of the files\n",
    "if len(multiFa) > 0:\n",
    "    print(multiFa)"
   ]
  },
  {
   "cell_type": "code",
   "execution_count": 35,
   "metadata": {},
   "outputs": [
    {
     "data": {
      "text/plain": [
       "24"
      ]
     },
     "execution_count": 35,
     "metadata": {},
     "output_type": "execute_result"
    }
   ],
   "source": [
    "len(sampleList)"
   ]
  }
 ],
 "metadata": {
  "kernelspec": {
   "display_name": "Python 3.8.10 64-bit",
   "language": "python",
   "name": "python3"
  },
  "language_info": {
   "codemirror_mode": {
    "name": "ipython",
    "version": 3
   },
   "file_extension": ".py",
   "mimetype": "text/x-python",
   "name": "python",
   "nbconvert_exporter": "python",
   "pygments_lexer": "ipython3",
   "version": "3.8.10"
  },
  "orig_nbformat": 4,
  "vscode": {
   "interpreter": {
    "hash": "31f2aee4e71d21fbe5cf8b01ff0e069b9275f58929596ceb00d14d90e3e16cd6"
   }
  }
 },
 "nbformat": 4,
 "nbformat_minor": 2
}
