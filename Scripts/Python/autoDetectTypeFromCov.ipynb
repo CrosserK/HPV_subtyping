{
 "cells": [
  {
   "cell_type": "code",
   "execution_count": 109,
   "metadata": {},
   "outputs": [
    {
     "name": "stdout",
     "output_type": "stream",
     "text": [
      "Housegenes:  ['chr1_PPIE_AMPL4425884', 'chr5_BTF3_AMPL4425932', 'chr6_SRSF3_AMPL4425918', 'chr11_RAB1B_AMPL4426066', 'chr14_PABPN1_AMPL4425941']\n"
     ]
    }
   ],
   "source": [
    "import os, sys\n",
    "import glob\n",
    "import pandas as pd\n",
    "from os import listdir\n",
    "from os.path import isfile, join\n",
    "from argparse import ArgumentParser\n",
    "\n",
    "#Covarage matrix as csv file without qoutes, seperated by commas\n",
    "file = \"/home/pato/Skrivebord/HPV_subtyping/FASTQ/covMatrix.csv\"\n",
    "amplPos = \"/home/pato/Skrivebord/HPV_subtyping/FASTQ/amplPos.csv\"\n",
    "fastqFiles = \"/home/pato/Skrivebord/HPV_subtyping/FASTQ\"\n",
    "\n",
    "# Housegenes to check and remove\n",
    "#housegenes = ['PABPN1','SRSF3','PPIE','RAB1B','BTF3']\n",
    "houseGeneEndRow = 5\n",
    "typeTier=1\n",
    "\n",
    "# Location of all valid reference names that can be given\n",
    "path = \"/home/pato/Skrivebord/HPV_subtyping/References\"\n",
    "\n",
    "# Location of where to save output files\n",
    "refSavePath = \"/home/pato/Skrivebord/HPV_subtyping/Scripts/Python/autoDetTest\"\n",
    "logFile = \"/home/pato/Skrivebord/HPV_subtyping/Results/testlog.txt\"\n",
    "\n",
    "\n",
    "faF = [f for f in listdir(path) if isfile(join(path, f))]\n",
    "faFiles = []\n",
    "for i in faF:\n",
    "    if \"fasta.fai\" not in i:\n",
    "        faFiles.append(i)\n",
    "df = pd.read_csv(file,sep=\",\")\n",
    "\n",
    "housegenes = list(df.iloc[0:int(houseGeneEndRow),0])\n",
    "print(\"Housegenes: \",housegenes)\n",
    "f = open(logFile, \"a\")\n",
    "f.write(\"Housegenes set: \"+str(housegenes))\n",
    "f.close()\n",
    "# Finder samples"
   ]
  },
  {
   "cell_type": "code",
   "execution_count": 93,
   "metadata": {},
   "outputs": [
    {
     "data": {
      "text/plain": [
       "[]"
      ]
     },
     "execution_count": 93,
     "metadata": {},
     "output_type": "execute_result"
    }
   ],
   "source": [
    "excludeCols = ['Sort column', 'Gene', 'contig_srt', 'contig_end', 'Target']\n",
    "sampleList = []\n",
    "discardedList = []\n",
    "\n",
    "for col in df.columns:\n",
    "  \n",
    "    if col not in excludeCols:\n",
    "\n",
    "        # Checking housegenes, first get total cov of them\n",
    "        hgTot = 0\n",
    "        for gene in housegenes:\n",
    "            \n",
    "            hg = df[df['Gene']==gene]\n",
    "            hgTot+= int(hg[col])\n",
    "\n",
    "        # Now finding outliers in housegene coverage\n",
    "        notEnoughCov = 0\n",
    "        for gene in housegenes:\n",
    "            \n",
    "            hg = df[df['Gene']==gene]\n",
    "            geneCov = int(hg[col])\n",
    "\n",
    "            # set min cov on housegene to not count as failed\n",
    "            if geneCov < hgTot*0.1:\n",
    "                notEnoughCov+=1\n",
    "            \n",
    "        # discard sample if too many low housegenes\n",
    "        if notEnoughCov < 4:\n",
    "            sampleList.append(col)\n",
    "        else:\n",
    "            discardedList.append(col)\n",
    "discardedList"
   ]
  },
  {
   "cell_type": "code",
   "execution_count": 94,
   "metadata": {},
   "outputs": [],
   "source": [
    "#df[['Type', 'Gene']] = df['Gene'].str.split('_', 1, expand=True)\n",
    "# Now remove housegenes from samples\n",
    "ddf = df[~df['Gene'].isin(housegenes)]"
   ]
  },
  {
   "cell_type": "code",
   "execution_count": 95,
   "metadata": {},
   "outputs": [
    {
     "name": "stderr",
     "output_type": "stream",
     "text": [
      "/home/pato/.local/lib/python3.8/site-packages/pandas/core/frame.py:2963: SettingWithCopyWarning: \n",
      "A value is trying to be set on a copy of a slice from a DataFrame.\n",
      "Try using .loc[row_indexer,col_indexer] = value instead\n",
      "\n",
      "See the caveats in the documentation: https://pandas.pydata.org/pandas-docs/stable/user_guide/indexing.html#returning-a-view-versus-a-copy\n",
      "  self[k1] = value[k2]\n"
     ]
    }
   ],
   "source": [
    "ddf[['Type', 'Gene']] = ddf['Gene'].str.split('_', 1, expand=True)"
   ]
  },
  {
   "cell_type": "code",
   "execution_count": 96,
   "metadata": {},
   "outputs": [],
   "source": [
    "# Split i samples og find hvilke HPV typer der passer\n",
    "hpvTypes = pd.unique(ddf['Type'])"
   ]
  },
  {
   "cell_type": "code",
   "execution_count": 133,
   "metadata": {},
   "outputs": [],
   "source": [
    "# For sample, find HPV types in them\n",
    "covJson = {}\n",
    "for sample in sampleList:\n",
    "    covJson.update({sample : {\n",
    "    }})\n",
    "\n",
    "    for hpv in hpvTypes:\n",
    "        filtered = ddf[ddf['Type'] == hpv]\n",
    "        \n",
    "        # Checking how many amplicons have more than n reads\n",
    "        ampliconsWithReads = 0\n",
    "        for i in filtered[sample]:\n",
    "            # define minimum reads to count amplicon as covered\n",
    "            if i > 1: \n",
    "                ampliconsWithReads+=1\n",
    "        # Define minimum number of amplicons to cover\n",
    "        if ampliconsWithReads < 2:\n",
    "            covJson[sample].update({\n",
    "                hpv : 0\n",
    "                })\n",
    "        else:\n",
    "            # Tilsætter sample, hpvtype og sum af dækning for regioner i hpvtype\n",
    "            covJson[sample].update({\n",
    "                hpv : filtered[sample].sum()\n",
    "                })\n",
    "\n",
    "# Tæl sum af dækning over alle regioner for sample, derefter angiv fraktioner\n",
    "ratioJson = {}\n",
    "for sample in covJson.keys():\n",
    "    # Tæl total cov over gener for sample\n",
    "    sampleCovTotal = 0\n",
    "    for hpvtype, cov in covJson[sample].items():\n",
    "        sampleCovTotal+=cov\n",
    "    # Har nu total, og kan derfor loope igennem igen og lave ratios\n",
    "    # Sætter sample name:\n",
    "    ratioJson.update({sample : {\n",
    "        }})\n",
    "    \n",
    "    for hpvtype, cov in covJson[sample].items():\n",
    "        # Avoid division by 0:\n",
    "        if cov == 0:\n",
    "            ratioJson[sample].update({\n",
    "            hpvtype : 0\n",
    "            })\n",
    "        else:\n",
    "            ratioJson[sample].update({\n",
    "                hpvtype : cov/sampleCovTotal*100\n",
    "                })\n",
    "\n",
    "confirmedJson = {}\n",
    "for sample in ratioJson.keys():\n",
    "    \n",
    "    confirmedJson.update({sample : {\n",
    "        }})\n",
    "    \n",
    "    foundOneForSample = \"no\"\n",
    "    highestRatio = 0\n",
    "    for hpvtype, ratioCov in ratioJson[sample].items():\n",
    "        \n",
    "        # Define minimum ratio to confirm hpvtype in sample (1 to 100)\n",
    "        if ratioCov > 20: \n",
    "            confirm = \"yes\" \n",
    "            foundOneForSample = \"yes\"\n",
    "            if ratioCov > highestRatio:\n",
    "                highestRatio = ratioCov\n",
    "                highestRatioName = hpvtype\n",
    "        else: \n",
    "            confirm = \"no\"\n",
    "\n",
    "        confirmedJson[sample].update({\n",
    "            hpvtype : confirm\n",
    "            })\n",
    "\n",
    "        # If no one meets the minimum ratioCov value, set the highest cov as best match\n",
    "            # for hpvtype, ratioCov in ratioJson[sample].items():\n",
    "            #     if ratioCov > highestRatio:\n",
    "            #         highestRatio = ratioCov\n",
    "            #         highestRatioName = hpvtype\n",
    "        \n",
    "            # for hpvtype, ratioCov in ratioJson[sample].items():\n",
    "            #     if hpvtype == highestRatioName:\n",
    "            #         confirmedJson[sample].update({\n",
    "            #             hpvtype : \"yes\"\n",
    "            #             })\n"
   ]
  },
  {
   "cell_type": "code",
   "execution_count": 136,
   "metadata": {},
   "outputs": [],
   "source": [
    "# For each sample output confirmed hpv types to file\n",
    "multiFa = []\n",
    "for sample in confirmedJson.keys():\n",
    "\n",
    "    # Because the fastq are usually with a prefix compared to in the covMatrix, find the fastq name from the matrix name\n",
    "    for file in glob.glob(fastqFiles+\"/*\"+sample+\"*\"):\n",
    "        fastqname = file\n",
    "        fastqname = os.path.basename(fastqname)\n",
    "        fastqname = fastqname.replace(\".fastq\",\"\")\n",
    "    if \"fastqname\" not in locals():\n",
    "        fastqname = sample + \"_FASTQ_NOT_FOUND\"\n",
    "\n",
    "    file1 = open(refSavePath+\"/TypeCallSummary_T1.txt\", \"a\")\n",
    "    L = [fastqname] \n",
    "    file1.writelines(L)\n",
    "    file1.close()\n",
    "\n",
    "    filename = refSavePath+\"/\"+fastqname+\"/TypeCalls/\"+fastqname+\"_T\"+str(typeTier)+\"_SplitTo.txt\"\n",
    "\n",
    "    os.makedirs(refSavePath+\"/\"+fastqname+\"/TypeCalls/\", exist_ok = True)\n",
    "    for hpvtype, val in confirmedJson[sample].items():\n",
    "        if val == \"yes\":\n",
    "\n",
    "            # Append _ to hpv name so that HPV161 does not match HPV16 in a search:\n",
    "            if \"_\" in hpvtype:\n",
    "                pass\n",
    "            else:\n",
    "                ht = hpvtype + \"_\" \n",
    "\n",
    "            # search list of fasta files for id\n",
    "            ref = [i for i in faFiles if ht in i]\n",
    "            # Checking that there is only one match, then saving without .fasta in name\n",
    "            if len(ref) > 1:\n",
    "                multiFa.append([sample, ref])\n",
    "            else:\n",
    "                # Checking that there is atleast one match\n",
    "                if ref == []:\n",
    "                    ref = \"No_type_found\"\n",
    "                else:\n",
    "                    ref = ref[0].replace(\".fasta\",\"\")\n",
    "                # Append to file\n",
    "                f = open(filename, \"a\")\n",
    "                f.write(ref+\"\\n\")\n",
    "                f.close()\n",
    "\n",
    "                # Appending to summary\n",
    "                file1 = open(refSavePath+\"/TypeCallSummary_T1.txt\", \"a\")\n",
    "                L = [\"\\t\", ref] \n",
    "                file1.writelines(L)\n",
    "                file1.close()\n",
    "                \n",
    "    file1 = open(refSavePath+\"/TypeCallSummary_T1.txt\", \"a\")\n",
    "    file1.writelines(\"\\n\")\n",
    "    file1.close()\n",
    "    del fastqname\n",
    "\n",
    "\n",
    "# Printing fastas found with multiple hits. Fix these by removing one or more of the files\n",
    "if len(multiFa) > 0:\n",
    "    # Append to file\n",
    "    filename = refSavePath+\"/\"+sample+\"_foundMultiRefsFor.txt\"\n",
    "    f = open(filename, \"a\")\n",
    "    f.write(ref+\"\\n\")\n",
    "    f.close()\n"
   ]
  },
  {
   "cell_type": "code",
   "execution_count": 117,
   "metadata": {},
   "outputs": [
    {
     "data": {
      "text/plain": [
       "'/home/pato/Skrivebord/HPV_subtyping/Scripts/Python/autoDetTest'"
      ]
     },
     "execution_count": 117,
     "metadata": {},
     "output_type": "execute_result"
    }
   ],
   "source": [
    "refSavePath"
   ]
  }
 ],
 "metadata": {
  "kernelspec": {
   "display_name": "Python 3.8.10 64-bit",
   "language": "python",
   "name": "python3"
  },
  "language_info": {
   "codemirror_mode": {
    "name": "ipython",
    "version": 3
   },
   "file_extension": ".py",
   "mimetype": "text/x-python",
   "name": "python",
   "nbconvert_exporter": "python",
   "pygments_lexer": "ipython3",
   "version": "3.8.10"
  },
  "orig_nbformat": 4,
  "vscode": {
   "interpreter": {
    "hash": "31f2aee4e71d21fbe5cf8b01ff0e069b9275f58929596ceb00d14d90e3e16cd6"
   }
  }
 },
 "nbformat": 4,
 "nbformat_minor": 2
}
